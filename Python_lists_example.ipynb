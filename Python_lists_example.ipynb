{
  "nbformat": 4,
  "nbformat_minor": 0,
  "metadata": {
    "colab": {
      "provenance": [],
      "collapsed_sections": [
        "7uZ62l-FFEBr",
        "TrkQnPVM28ZU"
      ],
      "include_colab_link": true
    },
    "kernelspec": {
      "display_name": "Python 3",
      "name": "python3"
    }
  },
  "cells": [
    {
      "cell_type": "markdown",
      "metadata": {
        "id": "view-in-github",
        "colab_type": "text"
      },
      "source": [
        "<a href=\"https://colab.research.google.com/github/LifeLeveller/Python-Examples/blob/main/Python_lists_example.ipynb\" target=\"_parent\"><img src=\"https://colab.research.google.com/assets/colab-badge.svg\" alt=\"Open In Colab\"/></a>"
      ]
    },
    {
      "cell_type": "markdown",
      "metadata": {
        "id": "rejGhTOmXbu1"
      },
      "source": [
        "#Declaration\n",
        "- Empty List\n",
        "-Integer list\n",
        "-String List\n",
        "-Nested List\n",
        "\n"
      ]
    },
    {
      "cell_type": "code",
      "metadata": {
        "id": "ogf3yxOa_3hH",
        "colab": {
          "base_uri": "https://localhost:8080/"
        },
        "outputId": "a4b37b30-bfca-4ffd-dd9e-c950d7a21f8e"
      },
      "source": [
        "#List Creation\n",
        "l1 = []\n",
        "print(type(l1))\n",
        "l1 = list()\n",
        "print(type(l1))\n",
        "l1 = list('hello')\n",
        "print(l1)\n",
        "\n",
        "#Mixed data type \n",
        "mynamelist = [[10,\"Ravi\",98.5], [11,\"Smita\",99.5]]\n",
        "\n",
        "print(type(mynamelist))\n",
        "print(type(mynamelist[1]))\n",
        "print(type(mynamelist[1][0]))\n",
        "print(type(mynamelist[1][1]))\n",
        "print(type(mynamelist[1][2]))"
      ],
      "execution_count": null,
      "outputs": [
        {
          "output_type": "stream",
          "name": "stdout",
          "text": [
            "<class 'list'>\n",
            "<class 'list'>\n",
            "['h', 'e', 'l', 'l', 'o']\n",
            "<class 'list'>\n",
            "<class 'list'>\n",
            "<class 'int'>\n",
            "<class 'str'>\n",
            "<class 'float'>\n"
          ]
        }
      ]
    },
    {
      "cell_type": "code",
      "metadata": {
        "id": "eboZ_kpAF2da"
      },
      "source": [
        "#Nested List\n",
        " #               0                     1             2\n",
        "nest_list = [['Mathematics',95],['English',98],['Social Science',94]]\n",
        "print(\"Nested List declaration - \", nest_list)\n"
      ],
      "execution_count": null,
      "outputs": []
    },
    {
      "cell_type": "markdown",
      "metadata": {
        "id": "R7wfkRgQYBDe"
      },
      "source": [
        "#Accessing the list"
      ]
    },
    {
      "cell_type": "code",
      "metadata": {
        "id": "8riT0R5Wk6yj"
      },
      "source": [
        "#Positive indexing\n",
        "#           [0  1  2  3  4] \n",
        "my_numlist= [8,10,29,45,50]\n",
        "#           -5,-4,-3,-2,-1\n",
        "\n",
        "\n",
        "\n",
        "#             [  0           1           2        ]\n",
        "my_charlist = ['Inception','Matrix','Forrest Gump']\n",
        "#                -3          -2          -1\n",
        "\n",
        "l2 = [1,2,[3,4],'name',[99.6,98.5],'Emerald']\n",
        "\n"
      ],
      "execution_count": null,
      "outputs": []
    },
    {
      "cell_type": "code",
      "metadata": {
        "id": "lfmor9Vvazy7"
      },
      "source": [
        "\n",
        "print(my_numlist[-1-1])\n",
        "print(my_numlist[6])\n",
        "print(my_charlist[-3])\n",
        "print(my_charlist[+1])\n",
        "print(my_charlist[-1+4])\n",
        "print(l2[2][1])\n",
        "print(l2[4][-1])\n",
        "print(l2[3][2:])\n",
        "print(l2[2][-1])\n"
      ],
      "execution_count": null,
      "outputs": []
    },
    {
      "cell_type": "markdown",
      "metadata": {
        "id": "3JtUyOPWCjXC"
      },
      "source": [
        "#Mutable - We can make changes to the list"
      ]
    },
    {
      "cell_type": "code",
      "metadata": {
        "id": "QfkRlJz2Crmm",
        "colab": {
          "base_uri": "https://localhost:8080/"
        },
        "outputId": "957aa4f7-db61-4bc9-f986-c918bad89e52"
      },
      "source": [
        "l2[2] = \"New\"\n",
        "print(l2)\n",
        "l2[4][0] = 95.5\n",
        "print(l2)"
      ],
      "execution_count": null,
      "outputs": [
        {
          "output_type": "stream",
          "name": "stdout",
          "text": [
            "[1, 2, 'New', 'name', [99.6, 98.5], 'Emerald']\n",
            "[1, 2, 'New', 'name', [95.5, 98.5], 'Emerald']\n"
          ]
        }
      ]
    },
    {
      "cell_type": "markdown",
      "metadata": {
        "id": "jC_73bEdFC-b"
      },
      "source": [
        "#List creation "
      ]
    },
    {
      "cell_type": "code",
      "metadata": {
        "id": "DRBmmfs9HsYm",
        "colab": {
          "base_uri": "https://localhost:8080/"
        },
        "outputId": "40f003ea-332e-4971-a3e5-25f3bcb04896"
      },
      "source": [
        "#List Creation through assignment and built-in list type object\n",
        "l1 = []\n",
        "print(type(l1))\n",
        "l1 = list()\n",
        "print(type(l1))\n",
        "l1 = list('hello')\n",
        "print(l1)"
      ],
      "execution_count": null,
      "outputs": [
        {
          "output_type": "stream",
          "name": "stdout",
          "text": [
            "<class 'list'>\n",
            "<class 'list'>\n",
            "['h', 'e', 'l', 'l', 'o']\n"
          ]
        }
      ]
    },
    {
      "cell_type": "code",
      "metadata": {
        "id": "kC5bCRIzFCfG",
        "colab": {
          "base_uri": "https://localhost:8080/"
        },
        "outputId": "c68bac53-2d55-404e-81fd-1b7953440b1f"
      },
      "source": [
        "#through input()\n",
        "l1 = list(input(\"Enter list element\"))\n",
        "\n",
        "print(l1,type(l1))\n",
        "\n"
      ],
      "execution_count": null,
      "outputs": [
        {
          "output_type": "stream",
          "name": "stdout",
          "text": [
            "Enter list element12\n",
            "['1', '2'] <class 'list'>\n"
          ]
        }
      ]
    },
    {
      "cell_type": "code",
      "metadata": {
        "id": "wvgr99rzGiPP"
      },
      "source": [
        "l1 = eval(input(\"Enter a value\"))\n",
        "print(l1,type(l1))\n",
        "\n",
        "#The eval() function can be used to evaluate and return the result of an expression given in the string\n",
        "val = eval('1+3')\n",
        "print(val)\n",
        "\n",
        "val = eval('4*25')\n",
        "print(val)"
      ],
      "execution_count": null,
      "outputs": []
    },
    {
      "cell_type": "code",
      "metadata": {
        "id": "Jf_JLMU_J1bk"
      },
      "source": [
        "lst = list(range(0,10,2))\n",
        "print(lst)\n",
        "\n",
        "lst1 = list(range(10,20,-3))\n",
        "print(lst1)\n"
      ],
      "execution_count": null,
      "outputs": []
    },
    {
      "cell_type": "code",
      "metadata": {
        "id": "NKRAOhPmsn6O"
      },
      "source": [
        "str1 = 'Dealing with lists'\n",
        "lst1 = str1.split('o')\n",
        "print(lst1)\n",
        "lst1 = str1.split(' ')\n",
        "print(lst1)\n",
        "lst1 = str1.split(str1[3:5])\n",
        "print(lst1)"
      ],
      "execution_count": null,
      "outputs": []
    },
    {
      "cell_type": "markdown",
      "metadata": {
        "id": "cWml77bK9U_I"
      },
      "source": [
        "#List Operations"
      ]
    },
    {
      "cell_type": "code",
      "metadata": {
        "id": "5ftxwIbM9bIB"
      },
      "source": [
        "\n",
        "l1 = [1,2,'sun']\n",
        "l2 = [1,2,'sunshine']\n",
        "\n",
        "# Plus(+)/concatenation operator\n",
        "l3 = l1 + l2\n",
        "print(\"Concatenation\", l3)\n",
        "#Replication Operator(*)\n",
        "\n",
        "print(\"Replication\", l1*2)\n",
        "\n",
        "#Membership operator\n",
        "if l1[2] in l2[2]:\n",
        "  print('Yes')\n",
        "else:\n",
        "  print('No')\n"
      ],
      "execution_count": null,
      "outputs": []
    },
    {
      "cell_type": "code",
      "metadata": {
        "id": "PC8Gy_mAD7my",
        "colab": {
          "base_uri": "https://localhost:8080/"
        },
        "outputId": "1e988fa4-4ed7-437c-fa5d-2c4b8a31594e"
      },
      "source": [
        "list1=[1,2,3,4,5]\n",
        "list2=[2,7,3,9]\n",
        "for item in list1:\n",
        "\tif item in list2:\n",
        "\t\tprint(item, \"overlapping\")\t\n",
        "else:\n",
        "\tprint(\" other numbers not overlapping\")"
      ],
      "execution_count": null,
      "outputs": [
        {
          "output_type": "stream",
          "name": "stdout",
          "text": [
            "2 overlapping\n",
            "3 overlapping\n",
            " other numbers not overlapping\n"
          ]
        }
      ]
    },
    {
      "cell_type": "code",
      "metadata": {
        "id": "ALf6grJQGWNO"
      },
      "source": [],
      "execution_count": null,
      "outputs": []
    },
    {
      "cell_type": "markdown",
      "metadata": {
        "id": "DFa0O4peEAzK"
      },
      "source": [
        "#Slicing\n"
      ]
    },
    {
      "cell_type": "markdown",
      "metadata": {
        "id": "cUjt4XshEZmB"
      },
      "source": [
        "- Access range of items in a list using slicing operator : (colon)\n",
        "- Operates on a list,string,tuples etc.,\n",
        "- Syntax : list[start:stop:steps]\n",
        "- Stop - Stops at index[stop-1]\n",
        "- Start = 0 (or -n) and stop = (n-1) or (-1) with step:1  ->\n",
        "- Start = 0 (or -n) and stop = (n-1) or (-1) with step:-1  <-"
      ]
    },
    {
      "cell_type": "code",
      "metadata": {
        "colab": {
          "base_uri": "https://localhost:8080/"
        },
        "id": "vED6XlFvAws6",
        "outputId": "fa931ec0-e7ae-4903-8705-d9e983d1fabb"
      },
      "source": [
        "k = ['Computer','Science',['Python','C++','Java'],['XI','XII'],2021]\n",
        "print(len(k))\n",
        "print(k[3:])\n",
        "#k[1][0]='a'\n",
        "k[2][0]='a'\n",
        "print(\"k[2][0]='a'=\",k)\n",
        "print(\"k[2][1][0] = \", k[2][1][0])\n",
        "print(\"k[1][1:3] = \", k[1][1:3])\n",
        "print(\"len(k[2:6][2:3]) = \", len(k[2:6][2:3]))\n",
        "k[2:4]= 'abc'\n",
        "print(\"k[2:4]= 'abc'-----\",k)\n",
        "k[1:]=[3]\n",
        "print(\"k[1:]=[3]----\", k)\n",
        "print(len(k))\n",
        "k[0]=[4]\n",
        "print(\"k[0]=[4]------\", k)\n",
        "k[0:0]=[4]\n",
        "print(\"k[0:0]=[4]-----\", k)\n",
        "k[1:4] = [4]\n",
        "print(k)"
      ],
      "execution_count": null,
      "outputs": [
        {
          "output_type": "stream",
          "name": "stdout",
          "text": [
            "5\n",
            "[['XI', 'XII'], 2021]\n",
            "k[2][0]='a'= ['Computer', 'Science', ['a', 'C++', 'Java'], ['XI', 'XII'], 2021]\n",
            "k[2][1][0] =  C\n",
            "k[1][1:3] =  ci\n",
            "len(k[2:6][2:3]) =  1\n",
            "k[2:4]= 'abc'----- ['Computer', 'Science', 'a', 'b', 'c', 2021]\n",
            "k[1:]=[3]---- ['Computer', 3]\n",
            "2\n",
            "k[0]=[4]------ [[4], 3]\n",
            "k[0:0]=[4]----- [4, [4], 3]\n",
            "[4, 4]\n"
          ]
        }
      ]
    },
    {
      "cell_type": "code",
      "metadata": {
        "id": "1V113tqiaa7t",
        "colab": {
          "base_uri": "https://localhost:8080/"
        },
        "outputId": "c2452e9e-1f8e-4f93-e938-66c90237f4dd"
      },
      "source": [
        "k = ['Computer','Science',['Python','C++','Java'],['XI','XII'],2021]\n",
        "k[1] = 'a'+ k[1][1:]\n",
        "print(k)"
      ],
      "execution_count": null,
      "outputs": [
        {
          "output_type": "stream",
          "name": "stdout",
          "text": [
            "['Computer', 'acience', ['Python', 'C++', 'Java'], ['XI', 'XII'], 2021]\n"
          ]
        }
      ]
    },
    {
      "cell_type": "code",
      "metadata": {
        "colab": {
          "base_uri": "https://localhost:8080/"
        },
        "id": "L5416qyQzaa0",
        "outputId": "efabad17-957e-4932-cb22-b33b31854ef3"
      },
      "source": [
        "astring = list(\"AaBbCcDd\")\n",
        "\n",
        "print(astring[::])\n",
        "print(astring[::-1])\n",
        "print(astring[::2])\n",
        "print(astring[1::2])\n",
        "print(astring[None:None:-1])\n",
        "astring[::] = ['e','f']\n",
        "print(astring)\n",
        "astring[0:0] = ['a','b']\n",
        "print(astring)\n",
        "astring[-1::] = ['g','h']\n",
        "print(astring)"
      ],
      "execution_count": null,
      "outputs": [
        {
          "output_type": "stream",
          "name": "stdout",
          "text": [
            "['A', 'a', 'B', 'b', 'C', 'c', 'D', 'd']\n",
            "['d', 'D', 'c', 'C', 'b', 'B', 'a', 'A']\n",
            "['A', 'B', 'C', 'D']\n",
            "['a', 'b', 'c', 'd']\n",
            "['d', 'D', 'c', 'C', 'b', 'B', 'a', 'A']\n",
            "['e', 'f']\n",
            "['a', 'b', 'e', 'f']\n",
            "['a', 'b', 'e', 'g', 'h']\n"
          ]
        }
      ]
    },
    {
      "cell_type": "code",
      "metadata": {
        "id": "99H28IlZAXxO"
      },
      "source": [
        "a = [55,44,33,22,11,0]\n",
        "print(a[0])\n",
        "print(a[-1])\n",
        "print(a[a[2]]) = 5\n",
        "print(a[a[0]])\n",
        "print(a[a[-1]])\n",
        "print(a[a[a[a[2]+1]]])\n",
        "print(-1*len(a))"
      ],
      "execution_count": null,
      "outputs": []
    },
    {
      "cell_type": "code",
      "metadata": {
        "id": "Hk0pV_oiFy3X",
        "colab": {
          "base_uri": "https://localhost:8080/"
        },
        "outputId": "deeb1a2c-9e98-493c-bc4b-e34fec03bd02"
      },
      "source": [
        "#             0         1       2         3         4         5       6         7\n",
        "namelist = ['John', 'Peter', 'Madhav', 'Sriya', 'Nithya', 'Sriram', 'Kausik', 'Bob']\n",
        "#           -8        -7        -6        -5        -4      -3        -2        -1\n",
        "\n",
        "\n",
        "print(namelist[6:-6:-1])\n"
      ],
      "execution_count": null,
      "outputs": [
        {
          "output_type": "stream",
          "name": "stdout",
          "text": [
            "['Kausik', 'Sriram', 'Nithya', 'Sriya']\n"
          ]
        }
      ]
    },
    {
      "cell_type": "code",
      "metadata": {
        "id": "TROhXD7lw59q",
        "colab": {
          "base_uri": "https://localhost:8080/"
        },
        "outputId": "d0c5c173-887c-4db9-8712-ee9bb0c4097c"
      },
      "source": [
        "#New joinees to be added to respective house groups\n",
        "\n",
        "namelist = ['John', 'Don', 'Madhav', 'Sriya', 'Nithya', 'Sriram', 'Kausik', 'Bob']\n",
        "\n",
        "\"\"\"\n",
        "Structure of the reservation:\n",
        "\tFirst two people in the list go to Emerald house\n",
        "\tThe next three people will go into Ruby house\n",
        "\tThe rest will go into Topaz house and calculate the number of students in that house.\n",
        "\t\n",
        "\tObjective:\n",
        "\t\tGet a good description of how students are categorized into different groups.\t\n",
        "\"\"\"\n",
        "\n",
        "#Emerald house\n",
        "emerald_house = namelist[:2]\n",
        "\n",
        "#Ruby house\n",
        "ruby_house = namelist[2:5]\n",
        "\n",
        "#Topaz house\n",
        "topaz_house = namelist[5:]\n",
        "\n",
        "print(\"The children added to Emerald house are {}\".format(emerald_house))\n",
        "print(\"The children added to Ruby house are {}\".format(ruby_house))\n",
        "print(\"The children added to Topaz house are {}, and no. of students in that house are {}\".format(topaz_house, len(topaz_house)))\n",
        "#'format strings with replacement fields'.format(values)\n",
        "print(\"The children added to Topaz house are {0}\\n No. of students in that house are {1}\".format(topaz_house, len(topaz_house)))\n",
        "id=100\n",
        "name='Sam'\n",
        "salary=25000.75\n",
        "st1 = 'Id= {:d}, Name= {:s}, salary= {:10.3f}'.format(id,name,salary)\n",
        "#sal to be displayed in 10 places, a decimal point and 2 fraction digits\n",
        "print(st1)"
      ],
      "execution_count": null,
      "outputs": [
        {
          "output_type": "stream",
          "name": "stdout",
          "text": [
            "The children added to Emerald house are ['John', 'Don']\n",
            "The children added to Ruby house are ['Madhav', 'Sriya', 'Nithya']\n",
            "The children added to Topaz house are ['Sriram', 'Kausik', 'Bob'], and no. of students in that house are 3\n",
            "The children added to Topaz house are ['Sriram', 'Kausik', 'Bob']\n",
            " No. of students in that house are 3\n",
            "Id= 100, Name= Sam, salary=  25000.750\n"
          ]
        }
      ]
    },
    {
      "cell_type": "markdown",
      "metadata": {
        "id": "il00Da0fFZG2"
      },
      "source": [
        "How to reverse a string using the slicing method?"
      ]
    },
    {
      "cell_type": "markdown",
      "metadata": {
        "id": "06eH3QPpna4_"
      },
      "source": [
        "\n",
        "\n",
        "\n",
        "\n"
      ]
    },
    {
      "cell_type": "code",
      "metadata": {
        "id": "ptkowmVsDif7"
      },
      "source": [
        "#List Comprehension - consist of an expression followed by for statement inside square bracket\n",
        "nlist = [i for i in range(10)]\n",
        "print(nlist)\n",
        "\n"
      ],
      "execution_count": null,
      "outputs": []
    },
    {
      "cell_type": "markdown",
      "metadata": {
        "id": "EMwciEPIuZpT"
      },
      "source": [
        "#List Comparison"
      ]
    },
    {
      "cell_type": "code",
      "metadata": {
        "id": "-ePIkHpgwInP",
        "colab": {
          "base_uri": "https://localhost:8080/"
        },
        "outputId": "f41d30ba-ed76-493d-a665-8d1b68de57e5"
      },
      "source": [
        "print([1.1,2,3,4]>[1,2,3,5])\n",
        "print([1.0,2,3,4]>[1,2,3,4])\n",
        "print([1,23]>[1,22,3,4])\n",
        "print([18,8]<[18,2,33,4])\n",
        "#print([1,8,5,8]>[[10,8],3,4])\n",
        "print([[1,8],5,8]>[[10,8],3,4])"
      ],
      "execution_count": null,
      "outputs": [
        {
          "output_type": "stream",
          "name": "stdout",
          "text": [
            "True\n",
            "False\n",
            "True\n",
            "False\n",
            "False\n"
          ]
        }
      ]
    },
    {
      "cell_type": "code",
      "metadata": {
        "id": "irymejQfueq5"
      },
      "source": [
        "a,b = [1,2,3],[1,2,3]\n",
        "c = [1.0,2.0,3.0]\n",
        "d = ['1','2','3']\n",
        "\n",
        "if a==c:\n",
        "  print(\"Yes!\")\n",
        "if a==b:\n",
        "  print(\"Lists {} and {} are equal\".format(a,b))\n",
        "else:\n",
        "  print(\"Sorry!\")"
      ],
      "execution_count": null,
      "outputs": []
    },
    {
      "cell_type": "markdown",
      "metadata": {
        "id": "M5hgagIVC-EV"
      },
      "source": [
        "#Traversing a list"
      ]
    },
    {
      "cell_type": "code",
      "metadata": {
        "id": "yjWZDbcwDGjI",
        "colab": {
          "base_uri": "https://localhost:8080/"
        },
        "outputId": "724086ef-5914-4cf1-84d6-ed0b98934b78"
      },
      "source": [
        "a=[10,20,30,40,50]\n",
        "length = len(a)\n",
        "print(length)\n",
        "for i in range(length):\n",
        "  a[i] = a[i] + 1\n",
        "print(a)"
      ],
      "execution_count": null,
      "outputs": [
        {
          "output_type": "stream",
          "name": "stdout",
          "text": [
            "5\n",
            "[11, 21, 31, 41, 51]\n"
          ]
        }
      ]
    },
    {
      "cell_type": "code",
      "metadata": {
        "id": "TVKtq0uyyewe",
        "colab": {
          "base_uri": "https://localhost:8080/"
        },
        "outputId": "0450a551-19f2-401d-de00-2cba328771f2"
      },
      "source": [
        "namelist = ['John', 'Peter', 'Bob']\n",
        "\n",
        "\n",
        "length = len(namelist) #length of the list\n",
        "#Displaying all the names of the list through for loop\n",
        "i=0\n",
        "while i<length:\n",
        "  print((namelist[i]))\n",
        "  for x in namelist[i]:\n",
        "    print(x)\n",
        "  i = i +1\n"
      ],
      "execution_count": null,
      "outputs": [
        {
          "output_type": "stream",
          "name": "stdout",
          "text": [
            "John\n",
            "J\n",
            "o\n",
            "h\n",
            "n\n",
            "Peter\n",
            "P\n",
            "e\n",
            "t\n",
            "e\n",
            "r\n",
            "Bob\n",
            "B\n",
            "o\n",
            "b\n"
          ]
        }
      ]
    },
    {
      "cell_type": "markdown",
      "metadata": {
        "id": "7uZ62l-FFEBr"
      },
      "source": [
        "# Palindrome check\n"
      ]
    },
    {
      "cell_type": "code",
      "metadata": {
        "id": "-TNriA97FAJu"
      },
      "source": [
        "#Convert string to a list\n",
        "my_str=\"MADAM\"\n",
        "strlist = list(my_str)\n",
        "revlist = strlist[::-1]\n",
        "if strlist == revlist :\n",
        "  print(\"Palindrome\")\n",
        "else:\n",
        "  print(\"Not a palindrome\")"
      ],
      "execution_count": null,
      "outputs": []
    },
    {
      "cell_type": "markdown",
      "metadata": {
        "id": "bOsemE18EGNT"
      },
      "source": [
        "#List Methods\n",
        "namelist = ['John', 'Peter', 'Madhav', 'Sriya', 'Nithya', 'Sriram', 'Kausik', 'Bob']\n",
        "#Syntax:\n",
        "- index() - list.index(element, start, end)\n",
        "- append() - list.append(item)\n",
        "- insert() - list.insert(i, elem)\n",
        "- extend() - list1.extend(iterable)  \"iterable(list,tuple,string)\n",
        "- count() - list.count(element)\n",
        "- reverse() - list.reverse()\n",
        "- sort() - list.sort(key=..., reverse=...)\n",
        "- sorted() - sorted(list, key=..., reverse=...)\n",
        "- clear() - list.clear()"
      ]
    },
    {
      "cell_type": "code",
      "metadata": {
        "id": "BtDK0TtOE1xd"
      },
      "source": [
        "namelist = ['John', 'Peter', 'Madhav', 'Peter', 'Nithya','Sriram', 'Kausik', 'Bob']\n",
        "\n",
        "print(namelist.index(\"Peter\",2,5))\n",
        "\n",
        "namelist.extend(\"hello\")\n",
        "print(namelist)\n",
        "\n",
        "namelist.extend([1,2,3])\n",
        "print(namelist)\n",
        "\n",
        "namelist.extend((4,2.5,3))\n",
        "print(namelist)\n",
        "\n",
        "namelist.extend(12)\n",
        "print(namelist)"
      ],
      "execution_count": null,
      "outputs": []
    },
    {
      "cell_type": "code",
      "metadata": {
        "id": "v0x_HcAhrJzm"
      },
      "source": [
        "#Extend - list1.extend(iterable)\n",
        "#Concatenation - '+'\n",
        "namelist = ['John', 'Peter', 'Madhav']\n",
        "\n",
        "new_name_1 = str(input(\"Enter the first name that you want to enter\"))\n",
        "new_name_2 = str(input(\"Enter the second name that you want to enter\"))\n",
        "new_name_3 = str(input(\"Enter the third name that you want to enter\"))\n",
        "additions = [new_name_1, new_name_2, new_name_3]\n",
        "print(additions)\n",
        "namelist.extend(additions)\n",
        "print(namelist)"
      ],
      "execution_count": null,
      "outputs": []
    },
    {
      "cell_type": "code",
      "metadata": {
        "id": "M7zXlmI4eLxj",
        "colab": {
          "base_uri": "https://localhost:8080/"
        },
        "outputId": "f6935dab-e181-4d7a-d2f1-8cd6accbbd16"
      },
      "source": [
        "#append() - list.append(item)\n",
        "a = []\n",
        "i=1\n",
        "dim = int(input(\"Enter the dimension of the matrix: \"))\n",
        "while i<=dim:\n",
        "  s = int(input(\"Enter a value for matrix a: \"))\n",
        "  a.append(s)\n",
        "  i=i+1\n",
        "print(a)\n",
        "b = []\n",
        "for i in range(dim):\n",
        "  s = int(input(\"Enter a value for matrix b: \"))\n",
        "  b.append(s)\n",
        "print(b)\n",
        "print(a,b)\n"
      ],
      "execution_count": null,
      "outputs": [
        {
          "output_type": "stream",
          "name": "stdout",
          "text": [
            "Enter the dimension of the matrix: 3\n",
            "Enter a value for matrix a: 2\n",
            "Enter a value for matrix a: 3\n",
            "Enter a value for matrix a: 4\n",
            "[2, 3, 4]\n",
            "Enter a value for matrix b: 3\n",
            "Enter a value for matrix b: 4\n",
            "Enter a value for matrix b: 5\n",
            "[3, 4, 5]\n",
            "[2, 3, 4] [3, 4, 5]\n"
          ]
        }
      ]
    },
    {
      "cell_type": "code",
      "metadata": {
        "id": "9Texq0JR6GR4",
        "colab": {
          "base_uri": "https://localhost:8080/"
        },
        "outputId": "d17de990-1627-422d-d4e1-2315fe03ca01"
      },
      "source": [
        "num = [30,10,15,40,35]\n",
        "num1 = num[:]\n",
        "#append()\n",
        "num.append(60)\n",
        "print('num list{} after appending 60 {}'.format(num1,num))\n",
        "\n"
      ],
      "execution_count": null,
      "outputs": [
        {
          "output_type": "stream",
          "name": "stdout",
          "text": [
            "num list[30, 10, 15, 40, 35] after appending 60 [30, 10, 15, 40, 35, 60]\n"
          ]
        }
      ]
    },
    {
      "cell_type": "code",
      "metadata": {
        "id": "3CTTN7gz-O72"
      },
      "source": [
        "a = [1]\n",
        "b = [2]\n",
        "s = [a, b]\n",
        "s.append(5)\n",
        "print(s)"
      ],
      "execution_count": null,
      "outputs": []
    },
    {
      "cell_type": "code",
      "metadata": {
        "id": "4nWKiNSO-RY2"
      },
      "source": [
        "a = [ [ ] ] * 3\n",
        "a.append(5)\n",
        "print(a)"
      ],
      "execution_count": null,
      "outputs": []
    },
    {
      "cell_type": "code",
      "metadata": {
        "id": "02TSIQ8q-TsM"
      },
      "source": [
        "a[1].extend([5])\n",
        "a.append(4)\n",
        "print(a)"
      ],
      "execution_count": null,
      "outputs": []
    },
    {
      "cell_type": "code",
      "metadata": {
        "id": "p9YPOOc9Cm3z",
        "colab": {
          "base_uri": "https://localhost:8080/"
        },
        "outputId": "ba12c6e1-8172-4cc7-e003-c78b9f7c2e57"
      },
      "source": [
        "#insert()\n",
        "#list.insert(i,x) - inserts x into the list in the position specified by i\n",
        "\n",
        "num.insert(0,[1,2,3])\n",
        "print('num list after inserting 35 at 2nd postion is {}'.format(num))\n",
        "\n",
        "#extend()\n",
        "num.extend(num1)\n",
        "print('num list after concatenating/extending with num1 {} is {}'.format(num1, num))\n",
        "\n"
      ],
      "execution_count": null,
      "outputs": [
        {
          "output_type": "stream",
          "name": "stdout",
          "text": [
            "num list after inserting 35 at 2nd postion is [[1, 2, 3], 78, 56, 33, 20, 12]\n",
            "num list after concatenating/extending with num1 [30, 10, 15, 40, 35] is [[1, 2, 3], 78, 56, 33, 20, 12, 30, 10, 15, 40, 35]\n"
          ]
        }
      ]
    },
    {
      "cell_type": "code",
      "metadata": {
        "id": "eajotWLHCpdV",
        "colab": {
          "base_uri": "https://localhost:8080/"
        },
        "outputId": "329227a6-fc56-4442-9b44-0ce30cb5b804"
      },
      "source": [
        "#count()\n",
        "#list.count(x) - Returns the number of occurances of x in the list\n",
        "n=num.count(35)\n",
        "print('No.of times 35 is found in the list num {} is {}'.format(num,n))\n",
        "\n"
      ],
      "execution_count": null,
      "outputs": [
        {
          "output_type": "stream",
          "name": "stdout",
          "text": [
            "No.of times 35 is found in the list num [[1, 2, 3], 78, 56, 33, 20, 12, 30, 10, 15, 40, 35] is 1\n"
          ]
        }
      ]
    },
    {
      "cell_type": "code",
      "metadata": {
        "id": "g2CTn1HkCw7u",
        "colab": {
          "base_uri": "https://localhost:8080/"
        },
        "outputId": "cacc009b-0bba-4924-b0a0-f5fd8ff9ee3a"
      },
      "source": [
        "num = [30,10,15,40,35]\n",
        "#max(list) - return the biggest element from the list\n",
        "print(\"num list{} and maximum element from the list is {}\".format(num,max(num)))\n",
        "#min(list) - return the smallest element from the list\n",
        "print(\"num list{} and minimum element from the list is {}\".format(num,min(num)))\n",
        "#sum(list)- return the sum of elements from the list\n",
        "print(\"num list{} and sum of all the elements from the list is {}\".format(num,sum(num)))\n"
      ],
      "execution_count": null,
      "outputs": [
        {
          "output_type": "stream",
          "name": "stdout",
          "text": [
            "num list[30, 10, 15, 40, 35] and maximum element from the list is 40\n",
            "num list[30, 10, 15, 40, 35] and minimum element from the list is 10\n",
            "num list[30, 10, 15, 40, 35] and sum of all the elements from the list is 130\n"
          ]
        }
      ]
    },
    {
      "cell_type": "code",
      "metadata": {
        "id": "bqabwCNe6I1w",
        "colab": {
          "base_uri": "https://localhost:8080/"
        },
        "outputId": "2824c7a8-76f3-457a-8db2-a9bd23c95c8c"
      },
      "source": [
        "#Write a program to find the maximum and minimum elements in a list of elements \n",
        "lst=[]\n",
        "print(\"How many elements?\",end='')\n",
        "n=int(input()) #accept input into n\n",
        "\n",
        "for i in range(n):\n",
        "  print(\"Enter element: \",end='')\n",
        "  lst.append(int(input())) #add element to list lst\n",
        "print('The list is: ',lst)\n",
        "\n"
      ],
      "execution_count": null,
      "outputs": [
        {
          "output_type": "stream",
          "name": "stdout",
          "text": [
            "How many elements?5\n",
            "Enter element: 12\n",
            "Enter element: 67\n",
            "Enter element: 22\n",
            "Enter element: 45\n",
            "Enter element: 11\n",
            "The list is:  [12, 67, 22, 45, 11]\n"
          ]
        }
      ]
    },
    {
      "cell_type": "code",
      "metadata": {
        "id": "_Ejhmtrq7sjt",
        "colab": {
          "base_uri": "https://localhost:8080/"
        },
        "outputId": "b8cb8958-c7f0-4145-9b94-278320d20467"
      },
      "source": [
        "big=lst[0]\n",
        "small = lst[0]\n",
        "\n",
        "for i in range(1,n):\n",
        "  if lst[i]>big:\n",
        "    big = lst[i]\n",
        "  if lst[i]<small:\n",
        "    small= lst[i]\n",
        "print('Maximum element from the list {} is {}'.format(lst,big))\n",
        "print('Minimum element from the list {} is {}'.format(lst,small))"
      ],
      "execution_count": null,
      "outputs": [
        {
          "output_type": "stream",
          "name": "stdout",
          "text": [
            "Maximum element from the list [12, 67, 22, 45, 11] is 67\n",
            "Minimum element from the list [12, 67, 22, 45, 11] is 11\n"
          ]
        }
      ]
    },
    {
      "cell_type": "code",
      "metadata": {
        "id": "Ure8ituYCuhQ"
      },
      "source": [
        "#sort()\n",
        "#list.sort() - sorts the elements of the list into ascending order \n",
        "num=[20,56,78,33,12]\n",
        "\n",
        "num.sort(reverse=True)\n",
        "print(\"num list{} after sorting reverse\".format(num))\n",
        "\n",
        "num.sort()\n",
        "print(\"num list{} after sorting\".format(num))\n",
        "\n",
        "'''\n",
        "The simplest difference between sort() and sorted() is: \n",
        "sort() changes the list directly and doesn't return any value, \n",
        "while sorted() doesn't change the list and returns the sorted list.\n",
        "'''\n",
        "y = sorted(num,reverse=True)\n",
        "print(\"Original num list{} and sorted list in descending order is {}\".format(num,y))\n",
        "\n",
        "num.reverse()\n",
        "print(\"num list{} after reverse\".format(num))\n",
        "\n",
        "\n"
      ],
      "execution_count": null,
      "outputs": []
    },
    {
      "cell_type": "code",
      "metadata": {
        "id": "nQsIaCDDCsB2"
      },
      "source": [
        "#The remove () method removes the first occurrence of the element with the specified value.\n",
        "num = [30,10,35,40,35]\n",
        "#list.remove(x) - Removes x from the list\n",
        "num.remove(35)\n",
        "print('num list{} after removing {}'.format(num,35))\n",
        "\n",
        "#pop()\n",
        "num.pop()\n",
        "print('num list{} after removing the last element'.format(num))\n",
        "\n",
        "num.pop(-2)\n",
        "print('num list{} after removing the element at index position -2'.format(num))\n",
        "\n"
      ],
      "execution_count": null,
      "outputs": []
    },
    {
      "cell_type": "code",
      "metadata": {
        "id": "5bI-rbv9-hUt"
      },
      "source": [
        "a, b = [1,2,3], [3, 4,5]\n",
        "c = b+a \n",
        "c.pop(3)\n",
        "\n",
        "c.remove(3)\n",
        "del c[3]\n",
        "print(c)\n",
        "a.remove(3)\n",
        "b.pop(3)\n",
        "print(a,b)"
      ],
      "execution_count": null,
      "outputs": []
    },
    {
      "cell_type": "code",
      "metadata": {
        "id": "urFDIAJFCyf9"
      },
      "source": [
        "num.clear()\n",
        "print(\"num list{} after removing all the elements and the id of the list is {}\".format(num,id(num)))"
      ],
      "execution_count": null,
      "outputs": []
    },
    {
      "cell_type": "code",
      "metadata": {
        "id": "swjJGwU50dfr",
        "colab": {
          "base_uri": "https://localhost:8080/"
        },
        "outputId": "c05ff783-3e9a-4ef4-ee30-32730fe4d2b0"
      },
      "source": [
        "#del(x) - delete the list x\n",
        "#del x[<index>] – deletes the object/element in that index <index> from list x\n",
        "#del x[start: stop : increment] – deletes a range of objects in the list x\n",
        "\n",
        "\n",
        "k = ['Computer', 'Science', ['Python', 'C++','Java'], ['XI', 'XII'], 2021]\n",
        "\n",
        "del k[4]\n",
        "del k[2:3]\n",
        "\n",
        "print(k)\n",
        "\n"
      ],
      "execution_count": null,
      "outputs": [
        {
          "output_type": "stream",
          "name": "stdout",
          "text": [
            "['Computer', 'Science', ['XI', 'XII']]\n"
          ]
        }
      ]
    },
    {
      "cell_type": "code",
      "metadata": {
        "id": "oPAh4VYC1KJR",
        "colab": {
          "base_uri": "https://localhost:8080/",
          "height": 181
        },
        "outputId": "fc274ecb-34d8-4ccf-e474-d3d0259c34f4"
      },
      "source": [
        "del k\n",
        "print(k)"
      ],
      "execution_count": null,
      "outputs": [
        {
          "output_type": "error",
          "ename": "NameError",
          "evalue": "ignored",
          "traceback": [
            "\u001b[0;31m---------------------------------------------------------------------------\u001b[0m",
            "\u001b[0;31mNameError\u001b[0m                                 Traceback (most recent call last)",
            "\u001b[0;32m<ipython-input-13-833e8a3c69d7>\u001b[0m in \u001b[0;36m<module>\u001b[0;34m()\u001b[0m\n\u001b[1;32m      1\u001b[0m \u001b[0;32mdel\u001b[0m \u001b[0mk\u001b[0m\u001b[0;34m\u001b[0m\u001b[0;34m\u001b[0m\u001b[0m\n\u001b[0;32m----> 2\u001b[0;31m \u001b[0mprint\u001b[0m\u001b[0;34m(\u001b[0m\u001b[0mk\u001b[0m\u001b[0;34m)\u001b[0m\u001b[0;34m\u001b[0m\u001b[0;34m\u001b[0m\u001b[0m\n\u001b[0m",
            "\u001b[0;31mNameError\u001b[0m: name 'k' is not defined"
          ]
        }
      ]
    },
    {
      "cell_type": "code",
      "metadata": {
        "id": "lIWaznocDx4H"
      },
      "source": [
        "lst=[]\n",
        "print(\"How many elements?\",end='')\n",
        "n=int(input()) #accept input into n\n",
        "\n",
        "for i in range(n):\n",
        "  print(\"Enter element: \",end='')\n",
        "  lst.append(int(input())) #add element to list lst\n",
        "print('The list is: ',lst)\n"
      ],
      "execution_count": null,
      "outputs": []
    },
    {
      "cell_type": "markdown",
      "metadata": {
        "id": "N4mAtAbs4ToV"
      },
      "source": [
        "#Copy\n",
        "- Assigning\n",
        "- Slicing\n",
        "- copy() - newlist = list.copy()"
      ]
    },
    {
      "cell_type": "code",
      "metadata": {
        "colab": {
          "base_uri": "https://localhost:8080/"
        },
        "id": "mDSU5DZW2qyP",
        "outputId": "dfe19363-0f9c-4f1e-b1b6-a447cd7585b6"
      },
      "source": [
        "#Assigning/Aliasing\n",
        "#Giving a new name to an existing list is called 'aliasing'\n",
        "old_list = [[1, 2, 3], [4, 5, 6], [7, 8, 'a']]\n",
        "new_list = old_list\n",
        "\n",
        "new_list[2][2] = 9\n",
        "\n",
        "print('Old List:', old_list)\n",
        "print('ID of Old List:', id(old_list))\n",
        "\n",
        "print('New List:', new_list)\n",
        "print('ID of New List:', id(new_list))"
      ],
      "execution_count": null,
      "outputs": [
        {
          "output_type": "stream",
          "name": "stdout",
          "text": [
            "Old List: [[1, 2, 3], [4, 5, 6], [7, 8, 9]]\n",
            "ID of Old List: 139964626095872\n",
            "New List: [[1, 2, 3], [4, 5, 6], [7, 8, 9]]\n",
            "ID of New List: 139964626095872\n"
          ]
        }
      ]
    },
    {
      "cell_type": "markdown",
      "metadata": {
        "id": "FWgHfLNbe1sf"
      },
      "source": [
        "![image.png](data:image/png;base64,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)"
      ]
    },
    {
      "cell_type": "code",
      "metadata": {
        "colab": {
          "base_uri": "https://localhost:8080/"
        },
        "id": "3kxyGp2W22-H",
        "outputId": "e4948bdc-1154-457b-8a30-37ecc1ce0ffd"
      },
      "source": [
        "#Slicing/Cloning\n",
        "#Obtaining exact copy of an existing object(or list) is called 'cloning'\n",
        "old_list = [[1, 2, 3], [4, 5, 6], [7, 8, 'a']]\n",
        "new_list = old_list[:]\n",
        "new_list[0:1]=\"hi\"\n",
        "\n",
        "print('Old List:', old_list)\n",
        "print('ID of Old List:', id(old_list))\n",
        "\n",
        "print('New List:', new_list)\n",
        "print('ID of New List:', id(new_list))"
      ],
      "execution_count": null,
      "outputs": [
        {
          "output_type": "stream",
          "name": "stdout",
          "text": [
            "Old List: [[1, 2, 3], [4, 5, 6], [7, 8, 'a']]\n",
            "ID of Old List: 139786402438672\n",
            "New List: ['h', 'i', [4, 5, 6], [7, 8, 'a']]\n",
            "ID of New List: 139786349751184\n"
          ]
        }
      ]
    },
    {
      "cell_type": "code",
      "metadata": {
        "id": "nuk6L0ClRf7b",
        "colab": {
          "base_uri": "https://localhost:8080/"
        },
        "outputId": "ff5f4e91-c688-49e4-a1d7-5d9841fefc27"
      },
      "source": [
        "#shallow copy\n",
        "import copy\n",
        "old_list = [[1, 2, 3], [4, 5, 6], [7, 8, 'a']]\n",
        "new_list = copy.copy(old_list)\n",
        "new_list[2][2] = 9\n",
        "\n",
        "print('Old List:', old_list)\n",
        "print('ID of Old List:', id(old_list))\n",
        "\n",
        "print('New List:', new_list)\n",
        "print('ID of New List:', id(new_list))"
      ],
      "execution_count": null,
      "outputs": [
        {
          "output_type": "stream",
          "name": "stdout",
          "text": [
            "Old List: [[1, 2, 3], [4, 5, 6], [7, 8, 9]]\n",
            "ID of Old List: 139964625667648\n",
            "New List: [[1, 2, 3], [4, 5, 6], [7, 8, 9]]\n",
            "ID of New List: 139964625667488\n"
          ]
        }
      ]
    },
    {
      "cell_type": "markdown",
      "metadata": {
        "id": "roo_5XBGeTRv"
      },
      "source": [
        "![image.png](data:image/png;base64,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)"
      ]
    },
    {
      "cell_type": "code",
      "metadata": {
        "id": "6qTvHvPDfRU9",
        "colab": {
          "base_uri": "https://localhost:8080/"
        },
        "outputId": "059a3fb9-d614-4f94-8626-9d87a7a82eee"
      },
      "source": [
        "#shallow copy\n",
        "#import copy\n",
        "old_list = [[1, 2, 3], [4, 5, 6], [7, 8, 'a']]\n",
        "new_list = old_list.copy()\n",
        "old_list[2] = ['a','b','c']\n",
        "new_list[2][1]= ['d','e','f']\n",
        "print('Old List:', old_list)\n",
        "print('ID of Old List:', id(old_list))\n",
        "\n",
        "print('New List:', new_list)\n",
        "print('ID of New List:', id(new_list))"
      ],
      "execution_count": null,
      "outputs": [
        {
          "output_type": "stream",
          "name": "stdout",
          "text": [
            "Old List: [[1, 2, 3], [4, 5, 6], ['a', 'b', 'c']]\n",
            "ID of Old List: 139786402512240\n",
            "New List: [[1, 2, 3], [4, 5, 6], [7, ['d', 'e', 'f'], 'a']]\n",
            "ID of New List: 139786426188976\n"
          ]
        }
      ]
    },
    {
      "cell_type": "markdown",
      "metadata": {
        "id": "GwLX7_E3gV4m"
      },
      "source": [
        "![image.png](data:image/png;base64,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)"
      ]
    },
    {
      "cell_type": "code",
      "metadata": {
        "colab": {
          "base_uri": "https://localhost:8080/"
        },
        "id": "DoX-hWjJhz_k",
        "outputId": "ffbe8dca-e4e4-4d79-9ab8-1318a8fcb0a6"
      },
      "source": [
        "#shallow copy\n",
        "import copy\n",
        "old_list = [[1, 2, 3], [4, 5, 6], [7, 8, 'a']]\n",
        "new_list = copy.copy(old_list)\n",
        "old_list[2] = ['a','b','c']\n",
        "#changing nested list value in new list\n",
        "new_list[2][1]= ['d','e','f']\n",
        "#changing nested list value in old list\n",
        "old_list[1][1] = [5]\n",
        "print('Old List:', old_list)\n",
        "print('ID of Old List:', id(old_list))\n",
        "\n",
        "print('New List:', new_list)\n",
        "print('ID of New List:', id(new_list))"
      ],
      "execution_count": null,
      "outputs": [
        {
          "output_type": "stream",
          "name": "stdout",
          "text": [
            "Old List: [[1, 2, 3], [4, [5], 6], ['a', 'b', 'c']]\n",
            "ID of Old List: 140334569149856\n",
            "New List: [[1, 2, 3], [4, [5], 6], [7, ['d', 'e', 'f'], 'a']]\n",
            "ID of New List: 140334569530224\n"
          ]
        }
      ]
    },
    {
      "cell_type": "markdown",
      "metadata": {
        "id": "Fpl7jLfkh0xT"
      },
      "source": [
        "![image.png](data:image/png;base64,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)"
      ]
    },
    {
      "cell_type": "code",
      "metadata": {
        "id": "PdnFV7dCdTaG"
      },
      "source": [
        "#Deep copy\n",
        "import copy\n",
        "old_list = [[1, 2, 3], [4, 5, 6], [7, 8, 'a']]\n",
        "new_list = copy.deepcopy(old_list)\n",
        "new_list[2][2] = 9\n",
        "\n",
        "print('Old List:', old_list)\n",
        "print('ID of Old List:', id(old_list))\n",
        "\n",
        "print('New List:', new_list)\n",
        "print('ID of New List:', id(new_list))"
      ],
      "execution_count": null,
      "outputs": []
    },
    {
      "cell_type": "markdown",
      "metadata": {
        "id": "5MWNpEL4eC6u"
      },
      "source": [
        "![image.png](data:image/png;base64,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)"
      ]
    },
    {
      "cell_type": "markdown",
      "metadata": {
        "id": "AkseoZcmkCtb"
      },
      "source": [
        "#Practice problems\n"
      ]
    },
    {
      "cell_type": "code",
      "metadata": {
        "id": "Qmp3L5Rn5Jme",
        "colab": {
          "base_uri": "https://localhost:8080/"
        },
        "outputId": "1215229f-cb57-4837-9aae-f26b3000ab04"
      },
      "source": [
        "a =['ab','cde',['ghi']]\n",
        "b = a[:]\n",
        "a[2][0] = 'jkh'\n",
        "a[1] = 'mno'\n",
        "b[0:2] = 'new'\n",
        "print(a)\n",
        "print(b)"
      ],
      "execution_count": null,
      "outputs": [
        {
          "output_type": "stream",
          "name": "stdout",
          "text": [
            "['ab', 'mno', ['jkh']]\n",
            "['n', 'e', 'w', ['jkh']]\n"
          ]
        }
      ]
    },
    {
      "cell_type": "code",
      "metadata": {
        "id": "JdunHaJq5SD3",
        "colab": {
          "base_uri": "https://localhost:8080/"
        },
        "outputId": "9bf96e42-fafa-444f-c6e3-0938b49c1a2a"
      },
      "source": [
        "a = ['abc', 'def', 'ghi']\n",
        "b = a\n",
        "b.pop(1)\n",
        "print(a)"
      ],
      "execution_count": null,
      "outputs": [
        {
          "output_type": "stream",
          "name": "stdout",
          "text": [
            "['abc', 'ghi']\n"
          ]
        }
      ]
    },
    {
      "cell_type": "code",
      "metadata": {
        "id": "qHvpIpEwkKDr",
        "colab": {
          "base_uri": "https://localhost:8080/"
        },
        "outputId": "471cc43a-92f8-4e3a-9ae8-d81e983f95f3"
      },
      "source": [
        "arr=[1,2,3,4,5,6]\n",
        "for i in range(1,6):\n",
        "  arr[i-1] = arr[i]\n",
        "for i in range(0,6):\n",
        "  print(arr[i],end='')"
      ],
      "execution_count": null,
      "outputs": [
        {
          "output_type": "stream",
          "name": "stdout",
          "text": [
            "234566"
          ]
        }
      ]
    },
    {
      "cell_type": "code",
      "metadata": {
        "id": "UuVBkSpwlWAP",
        "colab": {
          "base_uri": "https://localhost:8080/"
        },
        "outputId": "45ba946a-4ed8-40ec-dff6-d17c4f0f8252"
      },
      "source": [
        "num = [9,18,27,36]\n",
        "for n in num:\n",
        "  for i in range(1,n%8):\n",
        "    print(i,'#',end='')\n",
        "  print()"
      ],
      "execution_count": null,
      "outputs": [
        {
          "output_type": "stream",
          "name": "stdout",
          "text": [
            "\n",
            "1 #\n",
            "1 #2 #\n",
            "1 #2 #3 #\n"
          ]
        }
      ]
    },
    {
      "cell_type": "code",
      "metadata": {
        "id": "Xz_GgtAb_RVR",
        "colab": {
          "base_uri": "https://localhost:8080/"
        },
        "outputId": "1a810847-e4bf-4c2c-ad0d-4632e20cf206"
      },
      "source": [
        "l=[]\n",
        "l1=[]\n",
        "l2=[]\n",
        "for i in range(1,10):\n",
        "  l.append(i)\n",
        "for i in range(10,1,-2):\n",
        "  l1.append(i)\n",
        "for i in range(len(l1)):\n",
        "  l2.append(l1[i]+l[i])\n",
        "l2.append(len(l)-len(l1))\n",
        "print(l2)"
      ],
      "execution_count": null,
      "outputs": [
        {
          "output_type": "stream",
          "name": "stdout",
          "text": [
            "[11, 10, 9, 8, 7, 4]\n"
          ]
        }
      ]
    },
    {
      "cell_type": "code",
      "metadata": {
        "id": "ouuP5g6LAwYi",
        "colab": {
          "base_uri": "https://localhost:8080/"
        },
        "outputId": "5a2e04e1-299b-4d10-9f91-e57e44749a2d"
      },
      "source": [
        "data = ['P',20,'R',10,'S',30]\n",
        "times,add=0,0\n",
        "alpha=''\n",
        "for c in range(1,6,2):\n",
        "  times+=c\n",
        "  alpha+=data[c-1]+'$'\n",
        "  add+=data[c]\n",
        "  print(times,add,alpha)\n"
      ],
      "execution_count": null,
      "outputs": [
        {
          "output_type": "stream",
          "name": "stdout",
          "text": [
            "1 20 P$\n",
            "4 30 P$R$\n",
            "9 60 P$R$S$\n"
          ]
        }
      ]
    },
    {
      "cell_type": "markdown",
      "metadata": {
        "id": "z64mLHtF3zJb"
      },
      "source": [
        "#Deletion\n",
        "- pop() - list.pop(index)\n",
        "- remove() - list.remove(element)\n",
        "- del list"
      ]
    },
    {
      "cell_type": "code",
      "metadata": {
        "id": "85kg4h73E3Np"
      },
      "source": [
        "namelist = ['John', 'Peter', 'Madhav', 'Sriya', 'Nithya', 'Pranav', 'Sriram', 'Kausik', 'Bob']\n",
        "\n",
        "\n"
      ],
      "execution_count": null,
      "outputs": []
    },
    {
      "cell_type": "markdown",
      "metadata": {
        "id": "9JZrFKsKMeBi"
      },
      "source": [
        "#Some more List operations\n",
        "\n",
        "- Find the Maximum element from the list,\n",
        "- Find the Minimum element from the list,\n",
        "- Sum of elements in the list.\n",
        "- Membership\n",
        "- Repetition"
      ]
    },
    {
      "cell_type": "code",
      "metadata": {
        "id": "Vk0eJ96VT_l1"
      },
      "source": [
        "# Students grouped by their house\n",
        "emerald_house = ['Ajay', 'John', 'Peter','Bob', 'Geetha']\n",
        "ruby_house = ['Arun','Sita','Manasi','Sriya','Srinivas']\n",
        "numlist = [2,4,5,6,7,7.5,9.7]\n",
        "\n"
      ],
      "execution_count": null,
      "outputs": []
    },
    {
      "cell_type": "code",
      "metadata": {
        "id": "zID6AzJwhUTa"
      },
      "source": [
        "#Membership\n",
        "check_name = ('Sriya' in ruby_house )\n",
        "print(check_name)\n",
        "if (check_name == True ):\n",
        "  print(\"The name {} is present  in the list\".format(\"Sriya\"))\n",
        "else:\n",
        "  print(\"Sorry, The name {} is not present in the list\".format(\"Sriya\"))"
      ],
      "execution_count": null,
      "outputs": []
    },
    {
      "cell_type": "code",
      "metadata": {
        "id": "faZWGBzkfPly"
      },
      "source": [
        "#Repetition and finding if a name exist in the list\n",
        "newhouse = emerald_house *2\n",
        "index = 0\n",
        "for name in newhouse :\n",
        "  if name == \"Ajay\":\n",
        "    print (index)\n",
        "  index = index + 1\n",
        "print(newhouse.index(\"Ajay\"))\n",
        "print(newhouse)"
      ],
      "execution_count": null,
      "outputs": []
    },
    {
      "cell_type": "markdown",
      "metadata": {
        "id": "yebnmC63RK3i"
      },
      "source": [
        "#Function Module\n"
      ]
    },
    {
      "cell_type": "code",
      "metadata": {
        "id": "pa5B-8VIRPtB"
      },
      "source": [
        "# In Python, lists can be passed as arguments to a function\n",
        "# Passing a list as argument, passes the reference to the list\n",
        "# Therefore, any changes made inside the function to the list will be \n",
        "# visble outside the function\n",
        "\n",
        "def increment_list_elements(arg_list):\n",
        "  for x in range(len(arg_list)):\n",
        "    arg_list[x] = arg_list[x] + 1\n",
        "\n",
        "my_list = [1,2,3,4,5]\n",
        "print(\"The original list is:\", my_list)\n",
        "increment_list_elements(my_list)\n",
        "print(\"The incremented list is:\", my_list)"
      ],
      "execution_count": null,
      "outputs": []
    },
    {
      "cell_type": "code",
      "metadata": {
        "id": "M6iCgT0CRX90"
      },
      "source": [
        "#We are passing a string as an argument to check for palindrome\n",
        "# The original string is not modified\n",
        "def check_palindrome(str):  \n",
        "    return (str == str[::-1])\n",
        "\n",
        "my_str = input(\"Enter the string to check for Palindrome:\") \n",
        "if (check_palindrome(my_str) == True):\n",
        "  print (\"String:\" + my_str + \" is a palindrome\")\n",
        "else:\n",
        "  print (\"String:\" + my_str + \" is not a palindrome\")"
      ],
      "execution_count": null,
      "outputs": []
    },
    {
      "cell_type": "markdown",
      "metadata": {
        "id": "TrkQnPVM28ZU"
      },
      "source": [
        "#Extra programs"
      ]
    },
    {
      "cell_type": "code",
      "metadata": {
        "id": "TODkSK4o3PU9"
      },
      "source": [
        "#calculate sum in mixed list\n",
        "# initialzing the list\n",
        "random_list = [1, '10', 'sample', '2020', 'sample@2021', 2021]\n",
        "# initializing the variable total\n",
        "total = 0\n",
        "# iterating over the list\n",
        "for element in random_list:\n",
        "   # checking whether its a number or not\n",
        "   if isinstance(element, int) or element.isdigit():\n",
        "      # adding the element to the total\n",
        "      total += int(element)\n",
        "# printing the total\n",
        "print(total)"
      ],
      "execution_count": null,
      "outputs": []
    },
    {
      "cell_type": "code",
      "metadata": {
        "id": "xRn3hkozDQic"
      },
      "source": [
        "#Odd numbers\n",
        "odd = [x for x in range(10) if x%2 == 1]\n",
        "print(odd)\n",
        "\n",
        "#Even Numbers\n",
        "even = [x for x in range(10) if x%2 == 0]\n",
        "print(even)"
      ],
      "execution_count": null,
      "outputs": []
    }
  ]
}