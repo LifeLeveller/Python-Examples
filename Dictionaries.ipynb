{
  "nbformat": 4,
  "nbformat_minor": 0,
  "metadata": {
    "colab": {
      "provenance": [],
      "authorship_tag": "ABX9TyOske4SSOLcJpQfcr3qBxjd",
      "include_colab_link": true
    },
    "kernelspec": {
      "name": "python3",
      "display_name": "Python 3"
    },
    "language_info": {
      "name": "python"
    }
  },
  "cells": [
    {
      "cell_type": "markdown",
      "metadata": {
        "id": "view-in-github",
        "colab_type": "text"
      },
      "source": [
        "<a href=\"https://colab.research.google.com/github/LifeLeveller/Python-Examples/blob/main/Dictionaries.ipynb\" target=\"_parent\"><img src=\"https://colab.research.google.com/assets/colab-badge.svg\" alt=\"Open In Colab\"/></a>"
      ]
    },
    {
      "cell_type": "code",
      "metadata": {
        "colab": {
          "base_uri": "https://localhost:8080/"
        },
        "id": "vi_za-e3EQ9J",
        "outputId": "e59f8a00-3484-4cf7-f793-c8e73d7bb19d"
      },
      "source": [
        "# create a dictionary using {}\n",
        "person = {\"name\": \"Ranjini\", \"country\": \"India\", \"mobile\": 9845660656}\n",
        "print(person)\n",
        "# output - {'name': 'Ranjini', 'country': 'India', 'mobile': 9845660656}\n",
        "\n",
        "# create a dictionary using dict()\n",
        "person = dict({\"name\": \"Ranjini\", \"country\": \"India\", \"mobile\": 9845660656})\n",
        "print(person)\n",
        "# output -  {'name': 'Ranjini', 'country': 'India', 'mobile': 9845660656}\n",
        "\n",
        "# create a dictionary from sequence having each item as a pair\n",
        "person = dict([(\"name\", \"Ranjini\"), (\"country\", \"India\"), (\"mobile\", 9845660656)])\n",
        "print(person)\n",
        "#Output - {'country': 'India', 'name': 'Ranjini', 'mobile': 9845660656}\n",
        "\n",
        "# create dictionary with mixed keys keys\n",
        "# first key is string and second is an integer\n",
        "sample_dict = {\"name\": \"Ranjini\", 10: \"Mobile\"}\n",
        "print(sample_dict)\n",
        "# Output: {'name': 'Ranjini', 10: 'Mobile'}\n",
        "\n",
        "# create dictionary with value as a list\n",
        "person = {\"name\": \"Ranjini\", \"telephones\": [9845660656,9845660657,9845660658]}\n",
        "print(person)\n",
        "# {'name': 'Ranjini', 'telephones': [9845660656, 9845660657, 9845660658]}\n"
      ],
      "execution_count": null,
      "outputs": [
        {
          "output_type": "stream",
          "name": "stdout",
          "text": [
            "{'name': 'Ranjini', 'country': 'India', 'mobile': 9845660656}\n",
            "{'name': 'Ranjini', 'country': 'India', 'mobile': 9845660656}\n",
            "{'country': 'India', 'name': 'Ranjini', 'mobile': 9845660656}\n",
            "{'name': 'Ranjini', 10: 'Mobile'}\n",
            "{'name': 'Ranjini', 'telephones': [9845660656, 9845660657, 9845660658]}\n"
          ]
        }
      ]
    },
    {
      "cell_type": "code",
      "metadata": {
        "id": "bDokOBAcG6eO",
        "colab": {
          "base_uri": "https://localhost:8080/"
        },
        "outputId": "b3479500-13d3-47a7-99c4-dd6bce507740"
      },
      "source": [
        "#Creating a dictionary with input()\n",
        "name = input(\"Enter your name: \")\n",
        "country = input(\"Enter your country: \")\n",
        "mobile = int(input(\"Enter your mobile number: \"))\n",
        "d_person = {'name':name,'country':country,'mobile':mobile}\n",
        "print(d_person)\n",
        "d_person = {'n1':name,'c1':country,'m1':mobile}\n",
        "print(d_person)"
      ],
      "execution_count": null,
      "outputs": [
        {
          "output_type": "stream",
          "name": "stdout",
          "text": [
            "Enter your name: Ranjini\n",
            "Enter your country: india\n",
            "Enter your mobile number: 9866\n",
            "{'name': 'Ranjini', 'country': 'india', 'mobile': 9866}\n",
            "{'n1': 'Ranjini', 'c1': 'india', 'm1': 9866}\n"
          ]
        }
      ]
    },
    {
      "cell_type": "code",
      "metadata": {
        "id": "l2sFGWbRIpXb",
        "colab": {
          "base_uri": "https://localhost:8080/"
        },
        "outputId": "d189c134-ece2-41d9-f193-809679967251"
      },
      "source": [
        "#Creating a dictionary with input of key and value\n",
        "k1 = input(\"Enter the key: \")\n",
        "v1 = eval(input(\"Enter the value\"))\n",
        "d1 = {k1:v1}\n",
        "print(d1)\n"
      ],
      "execution_count": null,
      "outputs": [
        {
          "output_type": "stream",
          "name": "stdout",
          "text": [
            "Enter the key: 1\n",
            "Enter the value23\n",
            "{'1': 23}\n"
          ]
        }
      ]
    },
    {
      "cell_type": "code",
      "metadata": {
        "id": "XT_patI6Jq8S",
        "colab": {
          "base_uri": "https://localhost:8080/"
        },
        "outputId": "f2fb814f-21f0-4c38-c732-8a45bc70ef6d"
      },
      "source": [
        "#Creating a dictionary with number of key:value pair\n",
        "\n",
        "d1={}\n",
        "n1 = int(input(\"Enter the number of pairs: \"))\n",
        "for i in range(n1):\n",
        "  k1 = input(\"Enter the key: \")\n",
        "  v1 = eval(input(\"Enter the value\"))\n",
        "  d1[k1] = v1\n",
        "print(d1)"
      ],
      "execution_count": null,
      "outputs": [
        {
          "output_type": "stream",
          "name": "stdout",
          "text": [
            "Enter the number of pairs: 2\n",
            "Enter the key: 1\n",
            "Enter the value'one'\n",
            "Enter the key: 1\n",
            "Enter the value'two'\n",
            "{'1': 'two'}\n"
          ]
        }
      ]
    },
    {
      "cell_type": "code",
      "metadata": {
        "colab": {
          "base_uri": "https://localhost:8080/"
        },
        "id": "85JJ95C9LZu9",
        "outputId": "c1953d4d-291e-4d00-aa22-b8bcbd867f58"
      },
      "source": [
        "#Accessing elements of a dictionary\n",
        "person = {\"name\": \"Ranjini\", \"country\": \"India\", \"mobile\": 9845660656}\n",
        "d1 = {\"name\": \"Ranjini\", \"telephones\": [9845660656,9845660657,9845660658]}\n",
        "\n",
        "print(\"Length of the dictionary is : \",len(person))\n",
        "#Retrieve value using the key name inside the [] square brackets\n",
        "print(person['name'])\n",
        "print(person['name'][2])\n",
        "print(d1['telephones'])\n",
        "print(d1['telephones'][2])\n",
        "#print(person['mobile'][0])\n",
        "#print(d1['telephones'][2][1])\n",
        "\n",
        "#Retrieve value by passing key name as a parameter to the get() method of a dictionary\n",
        "print(person.get('mobile'))\n",
        "print(d1.get('telephones'))\n",
        "print(d1.get('telephones')[0])"
      ],
      "execution_count": null,
      "outputs": [
        {
          "output_type": "stream",
          "name": "stdout",
          "text": [
            "Length of the dictionary is :  3\n",
            "Ranjini\n",
            "n\n",
            "[9845660656, 9845660657, 9845660658]\n",
            "9845660658\n",
            "9845660656\n",
            "[9845660656, 9845660657, 9845660658]\n",
            "9845660656\n"
          ]
        }
      ]
    },
    {
      "cell_type": "code",
      "metadata": {
        "colab": {
          "base_uri": "https://localhost:8080/"
        },
        "id": "58D3-luFOYHE",
        "outputId": "90e8e4ee-c5e4-4093-e83d-2b279b33ebf7"
      },
      "source": [
        "#Accessing the non existing element\n",
        "print(person.get('text'))\n",
        "print(person.get('text','Not Found'))"
      ],
      "execution_count": null,
      "outputs": [
        {
          "output_type": "stream",
          "name": "stdout",
          "text": [
            "None\n",
            "Not Found\n"
          ]
        }
      ]
    },
    {
      "cell_type": "code",
      "metadata": {
        "colab": {
          "base_uri": "https://localhost:8080/"
        },
        "id": "WRV4r4vNNYzE",
        "outputId": "5035af61-9a9c-4dc5-eec7-033b94d7aac0"
      },
      "source": [
        "#dictionary methods to retrieve all key and values \n",
        "\n",
        "colors = {'r': 'red', 'g': 'green', 'b': 'blue', 'bl': 'black', 'primary': ['red', 'green', 'blue']}\n",
        "\n",
        "\n",
        "#keys()\tReturns the list of all keys present in the dictionary\n",
        "print(\"The keys from the dictionary = \", colors.keys(),'\\n',type(colors.keys()))\n",
        "\n",
        "#values()\tReturns the list of all values present in the dictionary\n",
        "print(\"The values from the dictionary = \", colors.values(),'\\n',type(colors.values()))\n",
        "\n",
        "#items()\tReturns all the items present in the dictionary. \n",
        "#Each item will be inside a tuple as a key-value pair.\n",
        "\n",
        "print(\"The items from the dictionary = \", colors.items(),'\\n',type(colors.items()))"
      ],
      "execution_count": null,
      "outputs": [
        {
          "output_type": "stream",
          "name": "stdout",
          "text": [
            "The keys from the dictionary =  dict_keys(['r', 'g', 'b', 'bl', 'primary']) \n",
            " <class 'dict_keys'>\n",
            "The values from the dictionary =  dict_values(['red', 'green', 'blue', 'black', ['red', 'green', 'blue']]) \n",
            " <class 'dict_values'>\n",
            "The items from the dictionary =  dict_items([('r', 'red'), ('g', 'green'), ('b', 'blue'), ('bl', 'black'), ('primary', ['red', 'green', 'blue'])]) \n",
            " <class 'dict_items'>\n"
          ]
        }
      ]
    },
    {
      "cell_type": "code",
      "metadata": {
        "id": "9RdbFQ3RSZBk",
        "colab": {
          "base_uri": "https://localhost:8080/"
        },
        "outputId": "421b0bf0-5361-4485-b07b-684243332b5b"
      },
      "source": [
        "#Traversing the dictonaries - keys()\n",
        "\n",
        "for key in colors:\n",
        "  print(key)\n",
        "\n",
        "print(\"\\nPrint using person.keys()\")\n",
        "for key in colors.keys():\n",
        "  print(key)"
      ],
      "execution_count": null,
      "outputs": [
        {
          "output_type": "stream",
          "name": "stdout",
          "text": [
            "r\n",
            "g\n",
            "b\n",
            "bl\n",
            "primary\n",
            "\n",
            "Print using person.keys()\n",
            "r\n",
            "g\n",
            "b\n",
            "bl\n",
            "primary\n"
          ]
        }
      ]
    },
    {
      "cell_type": "code",
      "metadata": {
        "colab": {
          "base_uri": "https://localhost:8080/"
        },
        "id": "FLafDh4yUCRx",
        "outputId": "96fde7d4-fdda-4b79-a858-6bd05d106de4"
      },
      "source": [
        "#Traversing the dictonaries - values()\n",
        "for val in colors:\n",
        "  print(colors[val])\n",
        "\n",
        "print(\"\\nPrint using person.values()\")\n",
        "for val in colors.values():\n",
        "  print(val)"
      ],
      "execution_count": null,
      "outputs": [
        {
          "output_type": "stream",
          "name": "stdout",
          "text": [
            "red\n",
            "green\n",
            "blue\n",
            "black\n",
            "['red', 'green', 'blue']\n",
            "\n",
            "Print using person.values()\n",
            "red\n",
            "green\n",
            "blue\n",
            "black\n",
            "['red', 'green', 'blue']\n"
          ]
        }
      ]
    },
    {
      "cell_type": "code",
      "metadata": {
        "colab": {
          "base_uri": "https://localhost:8080/"
        },
        "id": "Zs4Z4AKYWVdG",
        "outputId": "28496efd-36c9-4752-a875-52555acce068"
      },
      "source": [
        "#printing the key-value pair\n",
        "for key in colors:\n",
        "  print(key+':'+str(colors[key]))"
      ],
      "execution_count": null,
      "outputs": [
        {
          "output_type": "stream",
          "name": "stdout",
          "text": [
            "r:red\n",
            "g:green\n",
            "b:blue\n",
            "bl:black\n",
            "primary:['red', 'green', 'blue']\n"
          ]
        }
      ]
    },
    {
      "cell_type": "code",
      "metadata": {
        "colab": {
          "base_uri": "https://localhost:8080/"
        },
        "id": "L76KpLSeYF9r",
        "outputId": "74b9b3a6-a6d4-41ff-e64c-6fec6bd9cd1e"
      },
      "source": [
        "#Traversing the dictonaries - items()\n",
        "print(\"\\nPrint using colors.items()\")\n",
        "for itm in colors.items():\n",
        "  print(itm)\n",
        "print(\"\\nPrint using colors.items() - nested list\")\n",
        "for key in colors.items():\n",
        "  for val in key:\n",
        "    print(val)\n",
        "print(\"\\nPrint using colors.items() - individual key and value\")\n",
        "#unpacking the tuple\n",
        "for key,val in colors.items():\n",
        "  print(key,':',val)"
      ],
      "execution_count": null,
      "outputs": [
        {
          "output_type": "stream",
          "name": "stdout",
          "text": [
            "\n",
            "Print using colors.items()\n",
            "('r', 'red')\n",
            "('g', 'green')\n",
            "('b', 'blue')\n",
            "('bl', 'black')\n",
            "('primary', ['red', 'green', 'blue'])\n",
            "\n",
            "Print using colors.items() - nested list\n",
            "r\n",
            "red\n",
            "g\n",
            "green\n",
            "b\n",
            "blue\n",
            "bl\n",
            "black\n",
            "primary\n",
            "['red', 'green', 'blue']\n",
            "\n",
            "Print using colors.items() - individual key and value\n",
            "r : red\n",
            "g : green\n",
            "b : blue\n",
            "bl : black\n",
            "primary : ['red', 'green', 'blue']\n"
          ]
        }
      ]
    },
    {
      "cell_type": "code",
      "metadata": {
        "id": "-4aT_HfXqBVk",
        "colab": {
          "base_uri": "https://localhost:8080/"
        },
        "outputId": "c37075c2-0936-4782-a7bf-d3acca5fb457"
      },
      "source": [
        "#Nested list as key and value\n",
        "l1=[['name','john'],['age',17]]\n",
        "d=dict(l1)\n",
        "print(d)\n"
      ],
      "execution_count": null,
      "outputs": [
        {
          "output_type": "stream",
          "name": "stdout",
          "text": [
            "{'name': 'john', 'age': 17}\n"
          ]
        }
      ]
    },
    {
      "cell_type": "code",
      "metadata": {
        "colab": {
          "base_uri": "https://localhost:8080/"
        },
        "id": "hB2kPZOOklNt",
        "outputId": "54bdb5ec-c28e-4ca0-b8fd-f9629064cd23"
      },
      "source": [
        "l1=[1,2,3]\n",
        "l2=['one','two','three']\n",
        "d1=zip(l1,l2)\n",
        "\n",
        "print(\"after zipping\", d1)\n",
        "print(\"\\nConvert to dictionary\")\n",
        "print(dict(d1))\n",
        "\n",
        "d2=zip(l1,l2)\n",
        "print(\"\\n To look into zipped object\")\n",
        "for i in d2:\n",
        "  print(i)\n",
        "print(\"\\nvariations\")\n",
        "print(list(zip(l1,l2)))\n",
        "print(tuple(zip(l1,l2)))\n",
        "print(dict(zip(l1,l2)))"
      ],
      "execution_count": null,
      "outputs": [
        {
          "output_type": "stream",
          "name": "stdout",
          "text": [
            "after zipping <zip object at 0x7f4fef1eb640>\n",
            "\n",
            "Convert to dictionary\n",
            "{1: 'one', 2: 'two', 3: 'three'}\n",
            "\n",
            " To look into zipped object\n",
            "(1, 'one')\n",
            "(2, 'two')\n",
            "(3, 'three')\n",
            "\n",
            "variations\n",
            "[(1, 'one'), (2, 'two'), (3, 'three')]\n",
            "((1, 'one'), (2, 'two'), (3, 'three'))\n",
            "{1: 'one', 2: 'two', 3: 'three'}\n"
          ]
        }
      ]
    },
    {
      "cell_type": "code",
      "metadata": {
        "colab": {
          "base_uri": "https://localhost:8080/"
        },
        "id": "CmOFpaGXkqBq",
        "outputId": "dc750751-6612-4740-d210-1cfe8e76d0d9"
      },
      "source": [
        "dept = ('comp','sci','math','eng')\n",
        "name = ['Ranjini','Pavani','Uma']\n",
        "d1=zip(dept,name)\n",
        "print(dict(d1))"
      ],
      "execution_count": null,
      "outputs": [
        {
          "output_type": "stream",
          "name": "stdout",
          "text": [
            "{'comp': 'Ranjini', 'sci': 'Pavani', 'math': 'Uma'}\n"
          ]
        }
      ]
    },
    {
      "cell_type": "code",
      "metadata": {
        "colab": {
          "base_uri": "https://localhost:8080/"
        },
        "id": "Qe-a7nkn2zTo",
        "outputId": "a8174642-2ba3-451f-801d-3ae325f30dde"
      },
      "source": [
        "#Adding/Modifying items to the dictionary\n",
        "\n",
        "#Using key name: We can directly assign new values by using its key name. \n",
        "#The key name will be the existing one and we can mention the new value.\n",
        "\n",
        "colors = {\"r\": \"red\", 'g':'green'}\n",
        "colors['b']='blue'\n",
        "print(colors)\n",
        "\n",
        "#Using update() method: We can use the update method by passing the key-value pair to change the value. \n",
        "colors.update({\"bl\": \"black\"})\n",
        "\n",
        "colors.update([(\"primary\", ['red','green','blue'])])\n",
        "print(colors)\n"
      ],
      "execution_count": null,
      "outputs": [
        {
          "output_type": "stream",
          "name": "stdout",
          "text": [
            "{'r': 'red', 'g': 'green', 'b': 'blue'}\n",
            "{'r': 'red', 'g': 'green', 'b': 'blue', 'bl': 'black', 'primary': ['red', 'green', 'blue']}\n"
          ]
        }
      ]
    },
    {
      "cell_type": "code",
      "metadata": {
        "colab": {
          "base_uri": "https://localhost:8080/"
        },
        "id": "1pEIqoML6Qcf",
        "outputId": "bd968c62-2155-499f-fa4b-28e39edbb38b"
      },
      "source": [
        "#update()\n",
        "#the dictionary to be added will be passed as the argument to the update() method and \n",
        "#the updated dictionary will have items of both the dictionaries.\n",
        "\n",
        "d1 = {'abc': 82, 'def': 90, 'ghi': 45}\n",
        "d2 = {'jkl': 56, 'mno': 45, 'pqr': 66}\n",
        "\n",
        "# copy second dictionary into first dictionary\n",
        "d1.update(d2)\n",
        "# printing the updated dictionary\n",
        "print(d1)\n",
        "\n",
        "#Output- {'abc': 82, 'def': 90, 'ghi': 45, 'jkl': 56, 'mno': 45, 'pqr': 66}"
      ],
      "execution_count": null,
      "outputs": [
        {
          "output_type": "stream",
          "name": "stdout",
          "text": [
            "{'abc': 82, 'def': 90, 'ghi': 45, 'jkl': 56, 'mno': 45, 'pqr': 66}\n"
          ]
        }
      ]
    },
    {
      "cell_type": "code",
      "metadata": {
        "colab": {
          "base_uri": "https://localhost:8080/"
        },
        "id": "UHPuLdgs7C6-",
        "outputId": "f3ce6362-ff32-477b-9711-7f10e27420a8"
      },
      "source": [
        "# if both the dictionaries have a common key then the first dictionary value will be overridden with the second dictionary value.\n",
        "d1 = {'abc': 82, 'def': 90, 'ghi': 45}\n",
        "d2 = {'jkl': 56, 'mno': 45, 'ghi': 66}\n",
        "\n",
        "# copy second dictionary into first dictionary\n",
        "d1.update(d2)\n",
        "# printing the updated dictionary\n",
        "print(d1['ghi'])"
      ],
      "execution_count": null,
      "outputs": [
        {
          "output_type": "stream",
          "name": "stdout",
          "text": [
            "66\n"
          ]
        }
      ]
    },
    {
      "cell_type": "code",
      "metadata": {
        "colab": {
          "base_uri": "https://localhost:8080/"
        },
        "id": "fMyuTGcWwAXU",
        "outputId": "b916dec6-e632-4b7c-c502-e44f6418885c"
      },
      "source": [
        "#fromkeys()-It creates a new dictionary from the given sequence with the specific value.\n",
        "#Default is None when value is not specified\n",
        "seq=\"aeiou\"\n",
        "d1 = dict.fromkeys(seq)\n",
        "print(d1)\n",
        "\n",
        "seq= {1,2,3,4,5}\n",
        "val = ('one',)\n",
        "d1 = dict.fromkeys(keys,val)\n",
        "print(d1) \n",
        "\n",
        "new_dict = dict.fromkeys(range(1,4),[])\n",
        "print(new_dict)"
      ],
      "execution_count": null,
      "outputs": [
        {
          "output_type": "stream",
          "name": "stdout",
          "text": [
            "{'a': None, 'e': None, 'i': None, 'o': None, 'u': None}\n",
            "{1: ('one',), 2: ('one',), 3: ('one',), 4: ('one',), 5: ('one',)}\n",
            "{0: [], 1: [], 2: [], 3: []}\n"
          ]
        }
      ]
    },
    {
      "cell_type": "code",
      "metadata": {
        "colab": {
          "base_uri": "https://localhost:8080/"
        },
        "id": "Pd_GxFVub9OM",
        "outputId": "4831a67d-20e3-41f2-a2ea-42f6141d91f3"
      },
      "source": [
        "# Initializing sequence and list\n",
        "seq = ['a', 'b', 'c', 'd', 'e']\n",
        "l1 = [2, 3]\n",
        "t1=(2,3)\n",
        "d1 = dict.fromkeys(seq,t1)\n",
        "d2 = dict.fromkeys(seq,l1) \n",
        "# Printing created dictionary\n",
        "print(\"The newly created dictionary with list values : \"\n",
        "      + str(d1))\n",
        "#tuple \n",
        "t1 = t1+(5,) \n",
        "\n",
        "# appending to l1\n",
        "l1.append(4)\n",
        "print(\"The dictionary with list values after appending : \",d2)\n",
        "# Printing dictionary after appending\n",
        "# Notice that append takes place in all values\n",
        "print(\"The dictionary with list values after appending : \",d1)\n",
        " "
      ],
      "execution_count": null,
      "outputs": [
        {
          "output_type": "stream",
          "name": "stdout",
          "text": [
            "The newly created dictionary with list values : {'a': (2, 3), 'b': (2, 3), 'c': (2, 3), 'd': (2, 3), 'e': (2, 3)}\n",
            "The dictionary with list values after appending :  {'a': [2, 3, 4], 'b': [2, 3, 4], 'c': [2, 3, 4], 'd': [2, 3, 4], 'e': [2, 3, 4]}\n",
            "The dictionary with list values after appending :  {'a': (2, 3), 'b': (2, 3), 'c': (2, 3), 'd': (2, 3), 'e': (2, 3)}\n"
          ]
        }
      ]
    },
    {
      "cell_type": "code",
      "metadata": {
        "colab": {
          "base_uri": "https://localhost:8080/"
        },
        "id": "m5CCbdY6xLXW",
        "outputId": "28852397-849d-4827-b06b-51eda6373bc0"
      },
      "source": [
        "#setdefault() method returns the value of a key (if the key is in dictionary). If not, it adds key with a value to the dictionary.\n",
        "#Syntax: dict.setdefault(key, default_value)\n",
        "\n",
        "#when key is in the dictionary\n",
        "colors = {\"r\": \"red\", 'g':'green'}\n",
        "g1 = colors.setdefault('g')\n",
        "print(\"colors = \",colors)\n",
        "print(g1)\n",
        "\n",
        "#when key is not in the dictionary\n",
        "colors = {\"r\": \"red\", 'g':'green'}\n",
        "v1 = colors.setdefault('v')\n",
        "print(\"colors = \",colors)\n",
        "print(v1)\n",
        "\n",
        "#when key is not in the dictionary - default value provided\n",
        "colors = {\"r\": \"red\", 'g':'green'}\n",
        "v1 = colors.setdefault('v', 'violet')\n",
        "print(\"colors = \",colors)\n",
        "print(v1)"
      ],
      "execution_count": null,
      "outputs": [
        {
          "output_type": "stream",
          "name": "stdout",
          "text": [
            "colors =  {'r': 'red', 'g': 'green'}\n",
            "green\n",
            "colors =  {'r': 'red', 'g': 'green', 'v': None}\n",
            "None\n",
            "colors =  {'r': 'red', 'g': 'green', 'v': 'violet'}\n",
            "violet\n"
          ]
        }
      ]
    },
    {
      "cell_type": "code",
      "metadata": {
        "colab": {
          "base_uri": "https://localhost:8080/"
        },
        "id": "Q1x2MsLFa0Np",
        "outputId": "5bb94aa7-126b-41c6-f6f3-6ac5df7b1e1c"
      },
      "source": [
        "#The copy() method returns a copy (shallow copy) of the dictionary\n",
        "original_marks = {'Physics':67, 'Maths':87}\n",
        "\n",
        "copied_marks = original_marks.copy()\n",
        "copied_marks['Chemistry'] = 90\n",
        "\n",
        "print('Original Marks:', original_marks)\n",
        "print('Copied Marks:', copied_marks)\n",
        "\n",
        "#another method\n",
        "x = dict.copy(original_marks)\n",
        "x.clear()\n",
        "print('Original Marks:', original_marks)\n",
        "print('Copied Marks:', x)"
      ],
      "execution_count": null,
      "outputs": [
        {
          "output_type": "stream",
          "name": "stdout",
          "text": [
            "Original Marks: {'Physics': 67, 'Maths': 87}\n",
            "Copied Marks: {'Physics': 67, 'Maths': 87, 'Chemistry': 90}\n",
            "Original Marks: {'Physics': 67, 'Maths': 87}\n",
            "Copied Marks: {}\n"
          ]
        }
      ]
    },
    {
      "cell_type": "code",
      "metadata": {
        "colab": {
          "base_uri": "https://localhost:8080/"
        },
        "id": "P-DBI0IZ2g4L",
        "outputId": "e26faad3-eaba-48b5-a1e4-02d294cf1e31"
      },
      "source": [
        "original_marks = {'sid':'c19654', 'marks':[87,78,99,88]}\n",
        "\n",
        "copied_marks = original_marks.copy()\n",
        "copied_marks['class'] = 'Class12'\n",
        "copied_marks['marks'][0] = 99\n",
        "\n",
        "print('Original Marks:', original_marks)\n",
        "print('Copied Marks:', copied_marks)"
      ],
      "execution_count": null,
      "outputs": [
        {
          "output_type": "stream",
          "name": "stdout",
          "text": [
            "Original Marks: {'sid': 'c19654', 'marks': [99, 78, 99, 88]}\n",
            "Copied Marks: {'sid': 'c19654', 'marks': [99, 78, 99, 88], 'class': 'Class12'}\n"
          ]
        }
      ]
    },
    {
      "cell_type": "code",
      "metadata": {
        "colab": {
          "base_uri": "https://localhost:8080/"
        },
        "id": "erRc0jpO36sI",
        "outputId": "7fd8ddc1-4f4b-42db-cdea-ab981bfbda5e"
      },
      "source": [
        "original_marks = {'sid':'c19654', 'marks':{'phy':87,'chem':78,'maths':99}}\n",
        "\n",
        "copied_marks = original_marks.copy()\n",
        "copied_marks['class'] = 'Class12'\n",
        "copied_marks['marks']['phy'] = 90\n",
        "\n",
        "print('Original Marks:', original_marks)\n",
        "print('Copied Marks:', copied_marks)"
      ],
      "execution_count": null,
      "outputs": [
        {
          "output_type": "stream",
          "name": "stdout",
          "text": [
            "Original Marks: {'sid': 'c19654', 'marks': {'phy': 90, 'chem': 78, 'maths': 99}}\n",
            "Copied Marks: {'sid': 'c19654', 'marks': {'phy': 90, 'chem': 78, 'maths': 99}, 'class': 'Class12'}\n"
          ]
        }
      ]
    },
    {
      "cell_type": "code",
      "metadata": {
        "id": "LV8aem3a59NW"
      },
      "source": [
        "#Deletion\n",
        "d1 = {1: 'one', 2: 'two', 3: 'three', 4: 'four', 5: 'five'}\n",
        "\n",
        "#d1.pop(\"k\")\tRemove the key 'k' from the dictionary.\n",
        "d1.pop(3)\n",
        "print(d1)\n",
        "\n",
        "#when key is not in the dictionary\n",
        "x= d1.pop(6,'not found')\n",
        "print(x)\n",
        "\n",
        "#d1.popitem()\tRemove last entered key value pair and returns it as a tuple\n",
        "pitm = d1.popitem()\n",
        "print(pitm)\n",
        "\n",
        "#del  d1[“key”]\n",
        "del d1[1]\n",
        "print(d1)\n",
        "\n",
        "#d1.clear()\tRemoves all items from the dictionary.\n",
        "d1.clear()\n",
        "print(d1)\n",
        "\n",
        "#Delete the dictionary d1\n",
        "del d1\n",
        "\n"
      ],
      "execution_count": null,
      "outputs": []
    },
    {
      "cell_type": "code",
      "metadata": {
        "colab": {
          "base_uri": "https://localhost:8080/"
        },
        "id": "nS5lzDtc-55U",
        "outputId": "231947f0-c48b-42ad-8943-d5ff0f4eb3ea"
      },
      "source": [
        "d1 = {1: 'one', 2: 'two', 3: 'three', 4: 'four', 5: 'five'}\n",
        "\n",
        "max1 = max(d1.values())\n",
        "min1 = min(d1.values())\n",
        "print(\"maximum value = {}, minimum value = {}\".format(max1,min1))"
      ],
      "execution_count": null,
      "outputs": [
        {
          "output_type": "stream",
          "name": "stdout",
          "text": [
            "maximum value = two, minimum value = five\n"
          ]
        }
      ]
    },
    {
      "cell_type": "code",
      "source": [
        "# defining the dictionary\n",
        "ttable = {'Days': [\"Mon\",\"Tue\",\"wed\",\"Thu\"],\n",
        "   'time': \"2 pm\",\n",
        "   'Subjects':[\"Phy\",\"Chem\",\"Maths\",\"Bio\"]\n",
        "   }\n",
        "print(\"Given dictionary:\\n\",ttable)\n",
        "count = 0\n",
        "# using .items()\n",
        "for key, value in ttable.items():\n",
        "   if isinstance(value, list):\n",
        "      count += len(value)\n",
        "print(\"The number of elements in lists: \\n\",count)"
      ],
      "metadata": {
        "id": "NU7fFO1srNW3"
      },
      "execution_count": null,
      "outputs": []
    },
    {
      "cell_type": "code",
      "source": [
        "#Nested Dictionary\n",
        "id=[101,340,102,205]\n",
        "emp_data = [{'name':'Harsha','salary':50000,'year':2019},\n",
        "             {'name':'Bob','salary':30000,'year':2021},\n",
        "            {'name':'Swathi','salary':45000,'year':2019},\n",
        "            {'name':'Dinesh','salary':20000,'year':2020}]\n",
        "ed = dict(zip(id,emp_data))\n",
        "print(ed)"
      ],
      "metadata": {
        "colab": {
          "base_uri": "https://localhost:8080/"
        },
        "id": "A9sTxyZ6tBs8",
        "outputId": "4a28e67d-c2d5-401c-8b10-8c8db4cf4384"
      },
      "execution_count": null,
      "outputs": [
        {
          "output_type": "stream",
          "name": "stdout",
          "text": [
            "{101: {'name': 'Harsha', 'salary': 50000, 'year': 2019}, 340: {'name': 'Bob', 'salary': 30000, 'year': 2021}, 102: {'name': 'Swathi', 'salary': 45000, 'year': 2019}, 205: {'name': 'Dinesh', 'salary': 20000, 'year': 2020}}\n"
          ]
        }
      ]
    }
  ]
}