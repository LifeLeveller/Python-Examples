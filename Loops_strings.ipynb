{
  "nbformat": 4,
  "nbformat_minor": 0,
  "metadata": {
    "colab": {
      "provenance": [],
      "collapsed_sections": [
        "DqVfFUUbYdeH"
      ],
      "toc_visible": true,
      "authorship_tag": "ABX9TyMnm9IO+LYIfhFt0HqpzLwI",
      "include_colab_link": true
    },
    "kernelspec": {
      "name": "python3",
      "display_name": "Python 3"
    },
    "language_info": {
      "name": "python"
    }
  },
  "cells": [
    {
      "cell_type": "markdown",
      "metadata": {
        "id": "view-in-github",
        "colab_type": "text"
      },
      "source": [
        "<a href=\"https://colab.research.google.com/github/LifeLeveller/Python-Examples/blob/Python_data_types/Loops_strings.ipynb\" target=\"_parent\"><img src=\"https://colab.research.google.com/assets/colab-badge.svg\" alt=\"Open In Colab\"/></a>"
      ]
    },
    {
      "cell_type": "markdown",
      "metadata": {
        "id": "343O5G1vh9XT"
      },
      "source": [
        "#for..else"
      ]
    },
    {
      "cell_type": "code",
      "metadata": {
        "id": "NVbMh2IgicJ5"
      },
      "source": [
        "max=int(input(\"upto what number? \"))\n",
        "\n",
        "for num in range(2,max+1):\n",
        "  for i in range(2, num):\n",
        "    if(num%i)==0:\n",
        "      break\n",
        "  else:\n",
        "    print(num)"
      ],
      "execution_count": null,
      "outputs": []
    },
    {
      "cell_type": "markdown",
      "metadata": {
        "id": "60gfaAf1lyuz"
      },
      "source": [
        "#while..else"
      ]
    },
    {
      "cell_type": "code",
      "metadata": {
        "id": "55hHVJlJlxEQ"
      },
      "source": [
        "i=0\n",
        "while (i<5):\n",
        "  if i==3:\n",
        "    break\n",
        "  print(i)\n",
        "  i=i+1\n",
        "else:\n",
        "  print(\"Outside while\")"
      ],
      "execution_count": null,
      "outputs": []
    },
    {
      "cell_type": "code",
      "metadata": {
        "id": "0cLhGIlZoiAp"
      },
      "source": [
        "count = 0\n",
        "while (count < 0):   \n",
        "    count = count+1\n",
        "    print(count)\n",
        "else:\n",
        "    print(\"No Break\")"
      ],
      "execution_count": null,
      "outputs": []
    },
    {
      "cell_type": "code",
      "metadata": {
        "id": "dPglREiKm3l7"
      },
      "source": [
        "i=0\n",
        "while i<3:\n",
        "    j=0\n",
        "    while j<2:\n",
        "        print(i, j, sep=' , ')\n",
        "        j+=1\n",
        "    i+=1"
      ],
      "execution_count": null,
      "outputs": []
    },
    {
      "cell_type": "code",
      "metadata": {
        "id": "Vz36LbL_n58v"
      },
      "source": [
        "i=0\n",
        "while(i<5):\n",
        "\tif i==3:\n",
        "\t\tprint(\"before break\")\n",
        "\t\tbreak\n",
        "\t\tprint(\"after break\")\n",
        "\tprint(i)\n",
        "\ti=i+1\n",
        "\twhile i==2:\n",
        "\t\tprint(\"2 in while\")\n",
        "\t\tbreak;"
      ],
      "execution_count": null,
      "outputs": []
    },
    {
      "cell_type": "code",
      "metadata": {
        "id": "tVlEZqU6s_WJ"
      },
      "source": [
        "answer = 'n'\n",
        "while answer!='y':\n",
        "\tanswer = input(\"Are you bored yet? (y/n) \")\n",
        "\tif answer == 'n':\n",
        "\t\tcontinue\n",
        "\telif answer != 'y':\n",
        "\t\tprint(\"Enter either y or n\")\n",
        "else:\n",
        "\tprint(\"Go do something useful\") #Entered y"
      ],
      "execution_count": null,
      "outputs": []
    },
    {
      "cell_type": "code",
      "metadata": {
        "id": "GovmIwz5kZDx"
      },
      "source": [
        "n=int(input('How many numbers? '))\n",
        "f1=0\n",
        "f2=1\n",
        "c=2\n",
        "if n==1:\n",
        "  print(f1)\n",
        "elif n==2:\n",
        "  print(f1, '\\n' , f2, sep='')\n",
        "else:\n",
        "  print(f1, '\\n',f2 , sep='')\n",
        "  while c<n:\n",
        "    f=f1+f2\n",
        "    print(f)\n",
        "    f1,f2 = f2,f\n",
        "    c+=1"
      ],
      "execution_count": null,
      "outputs": []
    },
    {
      "cell_type": "code",
      "metadata": {
        "id": "fn0ADigCKsCr"
      },
      "source": [
        "#Write a program to count the number of digits in a number\n",
        "num =int(input(\"Enter number:\"))\n",
        "count=0\n",
        "while(num>0):\n",
        "    count=count+1\n",
        "    num=num//10\n",
        "print(\"The number of digits in the number is:\",count)"
      ],
      "execution_count": null,
      "outputs": []
    },
    {
      "cell_type": "code",
      "metadata": {
        "id": "Bii5ylV1RLf3"
      },
      "source": [
        "#WAP to reverse digits in a number\n",
        "num = int(input(\"Enter a number:\"))\n",
        "num1=num\n",
        "rev = 0\n",
        "while(num>0):\n",
        "  rem = num%10\n",
        "  rev = rev*10 + rem\n",
        "  num = num//10\n",
        "  print(\"Order of reverse\",rev)\n",
        "print(\"The reversed digit of\",num1,\"is\",rev)"
      ],
      "execution_count": null,
      "outputs": []
    },
    {
      "cell_type": "markdown",
      "metadata": {
        "id": "Qy1E3tjoS4v-"
      },
      "source": [
        "#String Manipulation"
      ]
    },
    {
      "cell_type": "code",
      "metadata": {
        "id": "2knVGByMSkk_"
      },
      "source": [
        "#Traversing/Iterating through a string\n",
        "name = \"This is cool!\"\n",
        "\n",
        "length = len(name)\n",
        "for ch in range(length):\n",
        "  print(ch,end=\" \")\n",
        "\n",
        "print()\n",
        "\n",
        "for ch in name:\n",
        "  print(ch,end=\" \")\n",
        "\n",
        "print()\n",
        "\n",
        "for i in range(len(name)):\n",
        "  print(name[i], end =\" \")"
      ],
      "execution_count": null,
      "outputs": []
    },
    {
      "cell_type": "code",
      "metadata": {
        "id": "sdXV07md6Z0H"
      },
      "source": [
        "count = 0\n",
        "for letter in name:\n",
        "    if(letter == 's'):\n",
        "        count += 1\n",
        "print(count,'letters found for char \\'s\\'')"
      ],
      "execution_count": null,
      "outputs": []
    },
    {
      "cell_type": "code",
      "metadata": {
        "id": "yPEJB0L221ii"
      },
      "source": [
        "#WAP to accept a string and replace vowel in the string with number 0\n",
        "str1 = input(\"Enter a string : \")\n",
        "#new_str =\"\"\n",
        "for i in range(len(str1)):\n",
        "  if str1[i] in 'AEIOUaeiou':\n",
        "    print('0',end=\"\")\n",
        "  else:\n",
        "    print(str1[i],end='')\n",
        "#print(new_str)"
      ],
      "execution_count": null,
      "outputs": []
    },
    {
      "cell_type": "code",
      "metadata": {
        "id": "ZdBaytbc6BP1"
      },
      "source": [
        "#WAP to accept a string and replace vowel in the string with number 0\n",
        "str1 = input(\"Enter a string : \")\n",
        "new_str =\"\"\n",
        "for i in range(len(str1)):\n",
        "  if str1[i] in 'AEIOUaeiou':\n",
        "    new_str+='0'\n",
        "  else:\n",
        "    new_str+=str1[i]\n",
        "print(new_str)"
      ],
      "execution_count": null,
      "outputs": []
    },
    {
      "cell_type": "code",
      "metadata": {
        "id": "7EuCTfO93vsX"
      },
      "source": [
        "word='my string'\n",
        "length = len(word)\n",
        "# items start through end-1 \n",
        "print(word[0:length])\n",
        "# items start through the rest of the list\n",
        "print(word[0:])\n",
        "# items from the beginning through end-1\n",
        "print(word[:length])\n",
        "# a copy of the whole list\n",
        "word1 = word[:]\n",
        "print(\"Copied string: \", word1)"
      ],
      "execution_count": null,
      "outputs": []
    },
    {
      "cell_type": "code",
      "metadata": {
        "id": "IjhQzPyw83L5"
      },
      "source": [
        "string_to_iterate = \"This is cool!\"\n",
        "for char in string_to_iterate[0 : 5 : 1]:\n",
        "   print(char)\n",
        "\n",
        "print(\"[::]\")\n",
        "for i in string_to_iterate[: :]:\n",
        "  print(i,end=' ')\n",
        "  \n",
        "print(\"\\n[::-1] \")\n",
        "for i in string_to_iterate[: :-1]:\n",
        "  print(i,end=' ')"
      ],
      "execution_count": null,
      "outputs": []
    },
    {
      "cell_type": "code",
      "metadata": {
        "id": "NjCRRBilM_QQ"
      },
      "source": [
        "s = '12345' * 5\n",
        "\n",
        "print(s[::-5])\n"
      ],
      "execution_count": null,
      "outputs": []
    },
    {
      "cell_type": "code",
      "metadata": {
        "id": "31fuSSwv9m7s"
      },
      "source": [
        "string_to_iterate = \"String_traversal\"\n",
        "new_str = \"\"\n",
        "for char in string_to_iterate[ :  : 3]:\n",
        "   new_str = new_str + char + '#-'\n",
        "print(new_str)"
      ],
      "execution_count": null,
      "outputs": []
    },
    {
      "cell_type": "code",
      "metadata": {
        "id": "2uPojI-Q-YzJ"
      },
      "source": [
        "string_to_iterate = \"tattarrattat\"\n",
        "char_index = len(string_to_iterate) - 1\n",
        "while char_index >= 0:\n",
        "  print(string_to_iterate[char_index])\n",
        "  char_index -= 1\n",
        "  "
      ],
      "execution_count": null,
      "outputs": []
    },
    {
      "cell_type": "markdown",
      "metadata": {
        "id": "5i4fwgmfJMeF"
      },
      "source": [
        "#String methods"
      ]
    },
    {
      "cell_type": "code",
      "metadata": {
        "id": "qTpUQBTzJSFk",
        "colab": {
          "base_uri": "https://localhost:8080/"
        },
        "outputId": "4f3c2770-c432-425f-aab5-07ac623542cc"
      },
      "source": [
        "#Replacing a string\n",
        "txt = 'This is a beautiful day'\n",
        "s1 = 'day'\n",
        "s2 = 'flower'\n",
        "str1 = txt.replace(s1,s2)\n",
        "print(\"This is a beautiful day\".replace(\"day\",\"flower\"))\n",
        "print(str1)\n",
        "s3 = txt[-3:]\n",
        "print(s3)\n",
        "print(txt.replace(s3,s2))"
      ],
      "execution_count": null,
      "outputs": [
        {
          "output_type": "stream",
          "name": "stdout",
          "text": [
            "This is a beautiful flower\n",
            "This is a beautiful flower\n",
            "day\n",
            "This is a beautiful flower\n"
          ]
        }
      ]
    },
    {
      "cell_type": "code",
      "metadata": {
        "id": "1e5Az1d2JlX-"
      },
      "source": [
        "#Removing trailing spaces from right and left of a string\n",
        "name = '  Ma rio Bros   '\n",
        "\n",
        "print(name.rstrip())\n",
        "print(name.lstrip())\n",
        "print(name.strip())"
      ],
      "execution_count": null,
      "outputs": []
    },
    {
      "cell_type": "code",
      "metadata": {
        "id": "bBDGQwEKmZal"
      },
      "source": [
        "txt = \",,,,,ssaaww.....banana\"\n",
        "\n",
        "x = txt.lstrip(\",.asw\")\n",
        "print(x)\n",
        "\n"
      ],
      "execution_count": null,
      "outputs": []
    },
    {
      "cell_type": "code",
      "metadata": {
        "id": "2GkxEiid5e-U",
        "colab": {
          "base_uri": "https://localhost:8080/"
        },
        "outputId": "96f5fee2-8042-4222-92c7-b8c29d606953"
      },
      "source": [
        "#Splitting strings \n",
        "#split() function splits the string from the first occurence starting from left side\n",
        "txt = input(\"Enter numbers seperated by comma: \")\n",
        "#cut the string where comma is found\n",
        "txt1 = txt.split(\",\")\n",
        "print(txt1)\n",
        "txt = \"this-is-fun\"\n",
        "print(txt.split(\"-\"))\n",
        "print(txt.partition(\"-\"))\n",
        "for i in txt1:\n",
        "  print(i)\n",
        "\n"
      ],
      "execution_count": null,
      "outputs": [
        {
          "output_type": "stream",
          "name": "stdout",
          "text": [
            "Enter numbers seperated by comma: 6,7\n",
            "['6', '7']\n",
            "['this', 'is', 'fun']\n",
            "('this', '-', 'is-fun')\n",
            "6\n",
            "7\n"
          ]
        }
      ]
    },
    {
      "cell_type": "code",
      "metadata": {
        "colab": {
          "base_uri": "https://localhost:8080/"
        },
        "id": "AU9wnIACtWAc",
        "outputId": "b08af39f-a7a6-46bb-fb3b-8fbcd06c14ca"
      },
      "source": [
        "#rsplit() function splits the string from the right side on the basis of the given seperator\n",
        "#blank space is default seperator\n",
        "txt = \"Example for rsplit!\" \n",
        "print(txt.rsplit(\" \",3))\n",
        "#1 is specified so that the string is split 1 time only from the right"
      ],
      "execution_count": null,
      "outputs": [
        {
          "output_type": "stream",
          "name": "stdout",
          "text": [
            "['Example', 'for', 'rsplit!']\n"
          ]
        }
      ]
    },
    {
      "cell_type": "code",
      "metadata": {
        "id": "F3t5GGgtJLua"
      },
      "source": [
        "#partition() Method - Divide the string into smaller parts\n",
        "txt = \"This is super fun\"\n",
        "\n",
        "x = txt.partition(\"super\")\n",
        "#Returns tuple as a output\n",
        "print(x)"
      ],
      "execution_count": null,
      "outputs": []
    },
    {
      "cell_type": "code",
      "metadata": {
        "colab": {
          "base_uri": "https://localhost:8080/"
        },
        "id": "_RPw4-6X67ol",
        "outputId": "465a01c8-bf78-4671-fbfb-9a831bb0464c"
      },
      "source": [
        "#joining strings - Concatenate strings with an iterable like list,tuple,dictionary,set etc.,\n",
        "#iterable - object whose all values are returned in the form of a string\n",
        "\n",
        "txt = \"Hello Everyone\"\n",
        "sep = '#'\n",
        "print(sep.join(txt))\n",
        "print(sep.join(txt1))"
      ],
      "execution_count": null,
      "outputs": [
        {
          "output_type": "stream",
          "name": "stdout",
          "text": [
            "H#e#l#l#o# #E#v#e#r#y#o#n#e\n",
            "3#4#6#7#88\n"
          ]
        }
      ]
    },
    {
      "cell_type": "code",
      "metadata": {
        "id": "qDnN5EhcvxWt"
      },
      "source": [
        "a,b = '11',12\n",
        "c = '/'\n",
        "print(c.join(a))\n",
        "print(c.join(b))"
      ],
      "execution_count": null,
      "outputs": []
    },
    {
      "cell_type": "code",
      "metadata": {
        "colab": {
          "base_uri": "https://localhost:8080/"
        },
        "id": "DL53Quyk7NDB",
        "outputId": "6fc66a85-09e5-46f2-b050-fc6916b93630"
      },
      "source": [
        "#Changing case of a string\n",
        "txt = '41this IS a bEAutiful day'\n",
        "\n",
        "print(txt.upper().title())\n",
        "str1 = \"HellO All\"\n",
        "print(\"swapcase()\", str1.swapcase())\n",
        "print(\"title(): \",txt.title())\n",
        "print(\"capitalize(): \",\"To capItalZDFDSize\".capitalize())"
      ],
      "execution_count": null,
      "outputs": [
        {
          "output_type": "stream",
          "name": "stdout",
          "text": [
            "41This Is A Beautiful Day\n",
            "swapcase() hELLo aLL\n",
            "title():  41This Is A Beautiful Day\n",
            "capitalize():  To capitalzdfdsize\n"
          ]
        }
      ]
    },
    {
      "cell_type": "code",
      "metadata": {
        "id": "Ss3nRcs9gckT",
        "colab": {
          "base_uri": "https://localhost:8080/"
        },
        "outputId": "b30a30ad-52dc-4af3-b576-85f402eece90"
      },
      "source": [
        "#Find and count\n",
        "txt = 'this is a beautiful day'\n",
        "sfind = txt.find(\"ahh\")\n",
        "print(txt.rfind('i',4,10))\n",
        "s_find = txt.find(\"is\")\n",
        "ifind = txt.index('a')\n",
        "print(\"x is found at index\", sfind)\n",
        "print(\"String 'is' is found at index\",s_find)\n",
        "print(\"index of a is\",ifind)\n",
        "c = txt.count(\"day\")\n",
        "print('count of a', c)\n"
      ],
      "execution_count": null,
      "outputs": [
        {
          "output_type": "stream",
          "name": "stdout",
          "text": [
            "5\n",
            "x is found at index -1\n",
            "String 'is' is found at index 2\n",
            "index of a is 8\n",
            "count of a 1\n"
          ]
        }
      ]
    },
    {
      "cell_type": "code",
      "metadata": {
        "id": "cHb86yqOBnrB"
      },
      "source": [
        "#Checking the starting and ending of the string\n",
        "#str.startswith(substring)\n",
        "txt=\"text\"\n",
        "\n",
        "print(txt.startswith('b'))\n",
        "print(txt.endswith(\"t\"))"
      ],
      "execution_count": null,
      "outputs": []
    },
    {
      "cell_type": "code",
      "metadata": {
        "id": "krQLigiQioyD"
      },
      "source": [
        "#Remove extra spaces from a string\n",
        "mystr = ' Cod ing i s fu n '\n",
        "print(mystr.replace(' ',''))    \n",
        "#Split and join method\n",
        "print(''.join(mystr.split()))\n",
        "#strip method\n"
      ],
      "execution_count": null,
      "outputs": []
    },
    {
      "cell_type": "markdown",
      "metadata": {
        "id": "UOIfU0vPOFfu"
      },
      "source": [
        "#String Testing Methods\n"
      ]
    },
    {
      "cell_type": "code",
      "metadata": {
        "id": "esxkArW0bsVb"
      },
      "source": [
        "#isalnum() returns True if string is nonempty and all its characters are alphanumeric \n",
        "#(either a letter or a number), and False otherwise\n",
        "\n",
        "my_string ='HelloWorld'\n",
        "print(my_string.isalnum())\n",
        "my_string ='Hello World'\n",
        "print(my_string.isalnum())\n",
        "my_string ='Hello@123'\n",
        "print(my_string.isalnum())\n",
        "my_string ='Hello123'\n",
        "print(my_string.isalnum())\n"
      ],
      "execution_count": null,
      "outputs": []
    },
    {
      "cell_type": "code",
      "metadata": {
        "id": "OWif8AwAOjjk"
      },
      "source": [
        "#String Testing Methods\n",
        "#isalpha() returns True if string is nonempty and all its characters are alphabetic, \n",
        "#and False otherwise\n",
        "my_string ='Hello world'\n",
        "print(my_string.isalpha())\n",
        "my_string ='Helloworld'\n",
        "print(my_string.isalpha())\n",
        "my_string ='hello@123'\n",
        "print(my_string.isalpha())\n",
        "my_string =' '\n",
        "print(my_string.isalpha())"
      ],
      "execution_count": null,
      "outputs": []
    },
    {
      "cell_type": "code",
      "metadata": {
        "id": "fILcSTV4kyXi"
      },
      "source": [
        "#islower() returns True if string is nonempty and all the alphabetic characters it contains are lowercase, and False otherwise. Non-alphabetic characters are ignored\n",
        "\n",
        "my_string ='HelloWorld'\n",
        "print(my_string.islower())\n",
        "my_string ='helloworld'\n",
        "print(my_string.islower())\n",
        "my_string ='hello world'\n",
        "print(my_string.islower())\n",
        "my_string ='hello@world12'\n",
        "print(my_string.islower())\n",
        "my_string =' '\n",
        "print(my_string.islower())\n",
        "\n"
      ],
      "execution_count": null,
      "outputs": []
    },
    {
      "cell_type": "code",
      "metadata": {
        "id": "z_MUp5JnlDBO"
      },
      "source": [
        "#isupper() returns True if string is nonempty and all the alphabetic characters it contains are uppercase, and False otherwise. Non-alphabetic characters are ignored\n",
        "\n",
        "my_string ='HelloWorld'\n",
        "print(my_string.isupper())\n",
        "my_string ='HELLOWORLD'\n",
        "print(my_string.isupper())\n",
        "my_string ='HELLO WORLD'\n",
        "print(my_string.isupper())\n",
        "my_string ='HELLO@123'\n",
        "print(my_string.isupper())\n",
        "\n"
      ],
      "execution_count": null,
      "outputs": []
    },
    {
      "cell_type": "code",
      "metadata": {
        "id": "-4laOLEelG0w"
      },
      "source": [
        "#isdigit() returns True if string is nonempty and all its characters are numeric digits, and False otherwise:\n",
        "\n",
        "mystr = 'Hello123'\n",
        "print(mystr.isdigit())\n",
        "mystr = '123'\n",
        "print(mystr.isdigit())\n",
        "mystr = '123@'\n",
        "print(mystr.isdigit())\n",
        "mystr = '1'\n",
        "print(mystr.isdigit())\n"
      ],
      "execution_count": null,
      "outputs": []
    },
    {
      "cell_type": "code",
      "metadata": {
        "id": "zLDslKf_lJCQ"
      },
      "source": [
        "#isspace() returns True if s is nonempty and all characters are whitespace characters, and False otherwise.\n",
        "\n",
        "mystr = 'hell o'\n",
        "print(mystr.isspace())\n",
        "mystr = ' \\n '\n",
        "print(mystr.isspace())\n",
        "mystr = '\\n\\t\\n\\\\t'\n",
        "print(mystr.isspace())\n",
        "mystr = '\\n\\t'\n",
        "print(mystr.isspace())\n"
      ],
      "execution_count": null,
      "outputs": []
    },
    {
      "cell_type": "code",
      "metadata": {
        "id": "ddgl6s7kkjE9",
        "colab": {
          "base_uri": "https://localhost:8080/"
        },
        "outputId": "2ca7b5a4-78ac-4d1d-8bbe-f342762ce97d"
      },
      "source": [
        "\n",
        "mystr = \" \"\n",
        "print(mystr.isspace())\n",
        "#mystr is not None and mystr is not empty or blank\n",
        "if mystr and mystr.strip():\n",
        "  print(\"String is not empty\")\n",
        "else:\n",
        "  print(\"string is empty\")"
      ],
      "execution_count": null,
      "outputs": [
        {
          "output_type": "stream",
          "name": "stdout",
          "text": [
            "True\n",
            "string is empty\n"
          ]
        }
      ]
    },
    {
      "cell_type": "markdown",
      "metadata": {
        "id": "DqVfFUUbYdeH"
      },
      "source": [
        "#Programs\n"
      ]
    },
    {
      "cell_type": "code",
      "metadata": {
        "id": "ctKejK4R_73M"
      },
      "source": [
        "string_to_iterate = \"tattarrattat\"\n",
        "char_index = len(string_to_iterate) - 1\n",
        "new_string = \"\"\n",
        "while char_index >= 0:\n",
        "  new_string = new_string + string_to_iterate[char_index]\n",
        "  print(new_string)\n",
        "  char_index -= 1\n",
        "print(\"Original string: \", string_to_iterate, \"\\nreversed string: \", new_string)  "
      ],
      "execution_count": null,
      "outputs": []
    },
    {
      "cell_type": "code",
      "metadata": {
        "id": "EM-wyuhFburl"
      },
      "source": [
        "#Convert string to uppercase without string method\n",
        "string = \"case conversion\"\n",
        "upper_case = \"\"\n",
        "for character in string:\n",
        "  if 'a' <= character <= 'z':\n",
        "    location = ord(character) - ord('a')\n",
        "    new_ascii = location + ord('A')\n",
        "    character = chr(new_ascii)\n",
        "    upper_case = upper_case + character\n",
        "  else:\n",
        "    upper_case = upper_case + ' '\n",
        "  print(upper_case)"
      ],
      "execution_count": null,
      "outputs": []
    },
    {
      "cell_type": "code",
      "metadata": {
        "id": "5f684Jc9MZt-"
      },
      "source": [
        "string_to_iterate = \"Hello\"\n",
        "x=\"\"\n",
        "for i in string_to_iterate[: :-1]:\n",
        "  x = x+i\n",
        "print(x,end=' ')\n",
        "newstr=\"\"\n",
        "for ch in range(len(x)):\n",
        "  if ch%2!=0:\n",
        "    newstr = newstr + \"*\"\n",
        "  else:\n",
        "    newstr = newstr + x[ch]\n",
        "print()\n",
        "print(newstr)"
      ],
      "execution_count": null,
      "outputs": []
    },
    {
      "cell_type": "code",
      "metadata": {
        "id": "jUwnSfkpYCEe"
      },
      "source": [
        "for row in range(5,10):\n",
        "  for column in range(1,5):\n",
        "    print(column*row, end=' ')\n",
        "  print()\n"
      ],
      "execution_count": null,
      "outputs": []
    },
    {
      "cell_type": "code",
      "metadata": {
        "id": "p3QhxjWN_bSv",
        "colab": {
          "base_uri": "https://localhost:8080/"
        },
        "outputId": "90ec9dad-290c-4502-bf14-f3462a6db309"
      },
      "source": [
        "sum=0\n",
        "for i in range(5):\n",
        "  sum += i\n",
        "  i = i+2\n",
        "print(sum)"
      ],
      "execution_count": null,
      "outputs": [
        {
          "output_type": "stream",
          "name": "stdout",
          "text": [
            "10\n"
          ]
        }
      ]
    },
    {
      "cell_type": "code",
      "metadata": {
        "id": "dCbOVSFH_4yP",
        "colab": {
          "base_uri": "https://localhost:8080/"
        },
        "outputId": "4d0c6d68-6049-4488-8ae9-55afaaae4cee"
      },
      "source": [
        "if  87 // 5.0 == 17:\n",
        "  print('True')\n",
        "else:\n",
        "  print('False')\n"
      ],
      "execution_count": null,
      "outputs": [
        {
          "output_type": "stream",
          "name": "stdout",
          "text": [
            "True\n"
          ]
        }
      ]
    },
    {
      "cell_type": "code",
      "metadata": {
        "id": "Gz1rNh3hAFhL",
        "colab": {
          "base_uri": "https://localhost:8080/"
        },
        "outputId": "268e39b1-461d-4e60-e782-fadc7631c864"
      },
      "source": [
        "a = 3 < 5\n",
        "b = 16 > 20\n",
        "c = 43 >= 56\n",
        "print(a,b,c)\n",
        "\n",
        "if not a or b:\n",
        " \t   print (1)\n",
        "elif not a or not b and c: \n",
        " \t   print (2)\n",
        "elif not a or b or not b and a: \n",
        "  \t  print (3)\n",
        "else: \n",
        "  \t  print (4)\n"
      ],
      "execution_count": null,
      "outputs": [
        {
          "output_type": "stream",
          "name": "stdout",
          "text": [
            "True False False\n",
            "3\n"
          ]
        }
      ]
    },
    {
      "cell_type": "code",
      "metadata": {
        "id": "SX0BKRmzAhKI"
      },
      "source": [
        "strin = input(\"Enter 5 words seperated by comma\")\n",
        "strsplit = strin.split(',')\n",
        "smax = max(strsplit)\n",
        "print(smax)\n"
      ],
      "execution_count": null,
      "outputs": []
    }
  ]
}