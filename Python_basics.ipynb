{
  "nbformat": 4,
  "nbformat_minor": 0,
  "metadata": {
    "colab": {
      "provenance": [],
      "toc_visible": true,
      "include_colab_link": true
    },
    "kernelspec": {
      "display_name": "Python 3",
      "name": "python3"
    },
    "language_info": {
      "name": "python"
    }
  },
  "cells": [
    {
      "cell_type": "markdown",
      "metadata": {
        "id": "view-in-github",
        "colab_type": "text"
      },
      "source": [
        "<a href=\"https://colab.research.google.com/github/LifeLeveller/Python-Examples/blob/main/Python_basics.ipynb\" target=\"_parent\"><img src=\"https://colab.research.google.com/assets/colab-badge.svg\" alt=\"Open In Colab\"/></a>"
      ]
    },
    {
      "cell_type": "markdown",
      "metadata": {
        "id": "B9buBCOUjrCH"
      },
      "source": []
    },
    {
      "cell_type": "code",
      "metadata": {
        "id": "e1IjgzX_jNSl"
      },
      "source": [
        "print(type(200))                            # <class 'int'>\n",
        "# value 200 is of type class 'int' because every variable that is created in \n",
        "#python is an object.\n",
        "\n",
        "print(3.14)                          # <class 'float'>\n",
        "\n",
        "print(1 + 2j)                        # <class 'complex'>\n",
        "\n",
        "print(True)                          # <class 'bool'>\n",
        "\n",
        "print([1, 2,34.6, 3])                     # <class 'list'>\n",
        "\n",
        "print((1, 2, 3))                     # <class 'tuple'>\n",
        "\n",
        "print({'red', 'green', 'blue'})      # <class 'set'>\n",
        "\n",
        "print({'name': 'Alice', 'age': 42})  # <class 'dict'>\n",
        "\n",
        "print('hello')                       # <class 'str'>\n"
      ],
      "execution_count": null,
      "outputs": []
    },
    {
      "cell_type": "markdown",
      "metadata": {
        "id": "BR4riiONhiKz"
      },
      "source": [
        "# Data Types\n"
      ]
    },
    {
      "cell_type": "code",
      "metadata": {
        "colab": {
          "base_uri": "https://localhost:8080/"
        },
        "id": "zCyPsCEQLlbE",
        "outputId": "2fc60462-aa35-4102-f33b-8cea6822475d"
      },
      "source": [
        "#Multiline Strings - length\n",
        "#len(obj) - Built-in-function to Return the length of the string\n",
        "#           or number of elements in a list.\n",
        "\n",
        "x = \"I'am\"\n",
        "print(x)\n",
        "y = 'I\\'am'\n",
        "print(y)\n",
        "\n",
        "\n",
        "str1 = '''a\n",
        "b\n",
        "c'''\n",
        "print(str1,len(str1))\n",
        "\n",
        "str1 = '''a\\\n",
        "b\\\n",
        "c'''\n",
        "print(str1, len(str1))\n",
        "\n",
        "str1=\"\"\"a\\n\n",
        "b\\n\n",
        "c\\n\"\"\"\n",
        "print(str1,len(str1))\n",
        "\n",
        "str1 = \"\"\"a\\nb\\nc\\n\"\"\"\n",
        "print(str1,len(str1))\n",
        "\n",
        "str1 = \"I\\nlike\\nprogramming\"\n",
        "print(str1,len(str1))"
      ],
      "execution_count": null,
      "outputs": [
        {
          "name": "stdout",
          "output_type": "stream",
          "text": [
            "I'am\n",
            "I'am\n",
            "a\n",
            "b\n",
            "c 5\n",
            "abc 3\n",
            "a\n",
            "\n",
            "b\n",
            "\n",
            "c\n",
            " 8\n",
            "a\n",
            "b\n",
            "c\n",
            " 6\n",
            "I\n",
            "like\n",
            "programming 18\n"
          ]
        }
      ]
    },
    {
      "cell_type": "code",
      "metadata": {
        "id": "jKa20nyshcaR"
      },
      "source": [
        "\"\"\" Types\n",
        "Python internally assumes the datatype of a variable\n",
        "type(<object name>) function to determine the type of an object\n",
        "\n",
        "L-Value = R-Value (Assignment Statement)\n",
        "\"\"\"\n",
        "a = 12\n",
        "print(a, type(a))\n",
        "\n",
        "b = 10/8\n",
        "print(b, type(b))\n",
        "\n",
        "b = 24\n",
        "c = 12\n",
        "print(b,a,type(b * a))\n",
        "print(b,c,type(b/c))\n"
      ],
      "execution_count": null,
      "outputs": []
    },
    {
      "cell_type": "code",
      "metadata": {
        "id": "8e_-VLSR3dSI"
      },
      "source": [
        "#Complex type\n",
        "z = 1j\n",
        "print(z,type(z))\n",
        "j = 2\n",
        "x = 3+5j\n",
        "y = 5j\n",
        "z = -5j\n",
        "\n",
        "print(\"5j*\",j,\"=\",5j * j)\n",
        "print(x,type(x))\n",
        "print(y)\n",
        "\n",
        "print(z + 5)\n",
        "print(-5 - z)"
      ],
      "execution_count": null,
      "outputs": []
    },
    {
      "cell_type": "code",
      "metadata": {
        "id": "sP_MnZDO_KZW"
      },
      "source": [
        "#String Data Type\n",
        "str1 = \"string in a double quote\"\n",
        "str2 = 'string in a single quote'\n",
        "\n",
        "print(str1,\"is of type\",type(str1))\n",
        "print(str2, \"is of type\",type(str2))\n",
        "\n",
        "# using ',' to concatenate the two or several strings\n",
        "print(str1,\"concatenated with\",str2)\n",
        "\n",
        "\n"
      ],
      "execution_count": null,
      "outputs": []
    },
    {
      "cell_type": "code",
      "metadata": {
        "colab": {
          "base_uri": "https://localhost:8080/"
        },
        "id": "7c8re2S45B70",
        "outputId": "bb82bfb3-27ac-4013-fa7b-0308ad2713dd"
      },
      "source": [
        "#List Datatype\n",
        "#List represents group of elements of different datatype\n",
        "#List can grow dynamically in memory\n",
        "list = [10,-20,45.6,'Mary']\n",
        "print(list*2,type(list))\n",
        "print(list[3],type(list))"
      ],
      "execution_count": null,
      "outputs": [
        {
          "name": "stdout",
          "output_type": "stream",
          "text": [
            "[10, -20, 45.6, 'Mary', 10, -20, 45.6, 'Mary'] <class 'list'>\n",
            "Mary <class 'list'>\n"
          ]
        }
      ]
    },
    {
      "cell_type": "code",
      "metadata": {
        "colab": {
          "base_uri": "https://localhost:8080/"
        },
        "id": "NNdbCZpx-7UZ",
        "outputId": "fda25193-8f22-4e86-c69d-7254c6a02486"
      },
      "source": [
        "#Tuple Datatype\n",
        "#Tuple is similar to list with group of elements of different datatype\n",
        "#Read-only-list\n",
        "#Elements of tuple are seperated by comma and enclosed in parentheses()\n",
        "tuple_x = (10,-20,45.6,'Mary')\n",
        "print(tuple_x[2],type(tuple_x))"
      ],
      "execution_count": null,
      "outputs": [
        {
          "name": "stdout",
          "output_type": "stream",
          "text": [
            "45.6 <class 'tuple'>\n"
          ]
        }
      ]
    },
    {
      "cell_type": "code",
      "metadata": {
        "colab": {
          "base_uri": "https://localhost:8080/"
        },
        "id": "tF-jtDFaBjwT",
        "outputId": "c13be63a-7831-49d5-8d8a-836bf3d6acc4"
      },
      "source": [
        "#Set Datatype\n",
        "\"\"\"Set is an unordered collection of elements much like a set in mathematics.\n",
        "Set does not accept duplicate elements\"\"\"\n",
        "s = {10,20,30,20,50}\n",
        "print(s,type(s))"
      ],
      "execution_count": null,
      "outputs": [
        {
          "name": "stdout",
          "output_type": "stream",
          "text": [
            "{10, 20, 50, 30} <class 'set'>\n"
          ]
        }
      ]
    },
    {
      "cell_type": "markdown",
      "metadata": {
        "id": "ib_eurA5sTMZ"
      },
      "source": [
        "#Input()\n",
        "The input() method takes input from the user and returns it.\n",
        "- variable_to_hold_the_value = input([prompt])\n",
        "- prompt (Optional) - a string that is written to standard output (usually screen) without trailing newline\n",
        "- takes input from keyboard and stores in a string"
      ]
    },
    {
      "cell_type": "code",
      "metadata": {
        "id": "UbQaQvoVApBF"
      },
      "source": [
        "\n",
        "str_name = input(\"Enter your name: \");\n",
        "str_age = input(\"Enter your age\")\n",
        "\n",
        "str_age = str_age + 1\n",
        "\n",
        "print(\"Name= \",str_name,type(str_name))\n",
        "print(\"Age= \", str_age,type(age))"
      ],
      "execution_count": null,
      "outputs": []
    },
    {
      "cell_type": "markdown",
      "metadata": {
        "id": "dcJYVavOt7ho"
      },
      "source": [
        "#Print()\n",
        "-The print() function prints the given object to the standard output device (screen) or to the text stream file."
      ]
    },
    {
      "cell_type": "code",
      "metadata": {
        "colab": {
          "base_uri": "https://localhost:8080/"
        },
        "id": "x3fNszHtt6QD",
        "outputId": "39db94b6-46f9-4058-e72d-938bcdfc8ff4"
      },
      "source": [
        "#print statement without any arguments\n",
        "print(\"class11\")\n",
        "print()     #add an empty line between the two outputs\n",
        "print(\"Computer Science\")\n",
        "\n",
        "#With escape sequence\n",
        "print(\"Tom\\nJerry\")\n",
        "print(\"Tom\\tJerry\")\n",
        "\n",
        "'''\n",
        "- using the + operator, both the arguments must be string  \n",
        "- while using the star(*) operator, one argument must be of int type, \n",
        "  and another must be of a string data type.\n",
        "'''\n",
        "print('Tom'+'Jerry')\n",
        "print(3*'Tom & Jerry ')\n",
        "\n",
        "#with any number of arguments\n",
        "a,b,c = 10,40,50\n",
        "print(\"values are:\",a,b,c)\n",
        "\n"
      ],
      "execution_count": null,
      "outputs": [
        {
          "name": "stdout",
          "output_type": "stream",
          "text": [
            "class11\n",
            "\n",
            "Computer Science\n",
            "Tom\n",
            "Jerry\n",
            "Tom\tJerry\n",
            "TomJerry\n",
            "Tom & Jerry Tom & Jerry Tom & Jerry \n",
            "values are: 10 40 50\n"
          ]
        }
      ]
    },
    {
      "cell_type": "code",
      "metadata": {
        "colab": {
          "base_uri": "https://localhost:8080/"
        },
        "id": "oyZToSfFz08F",
        "outputId": "3942ed72-cc97-4053-a748-944e3fc7f141"
      },
      "source": [
        "# with sep Attribute\n",
        "'''\n",
        "The Separator between the arguments in print () statement by default is the space \n",
        "by using the sep parameter, we can change space into any character or integer\n",
        "'''\n",
        "print(a,b,c, sep=':')\n",
        "\n",
        "#for formatting a date\n",
        "print('20', '11', '2020',sep=\"/\")\n",
        "\n",
        "#to print a path\n",
        "print('', 'home', 'user', 'documents', sep='/')\n",
        "\n",
        "print('node', 'child', 'child', sep=' -> ')"
      ],
      "execution_count": null,
      "outputs": [
        {
          "name": "stdout",
          "output_type": "stream",
          "text": [
            "10:40:50\n",
            "20/11/2020\n",
            "/home/user/documents\n",
            "node -> child -> child\n"
          ]
        }
      ]
    },
    {
      "cell_type": "code",
      "metadata": {
        "colab": {
          "background_save": true,
          "base_uri": "https://localhost:8080/"
        },
        "id": "Pruerjxhz39d",
        "outputId": "920df04b-4c20-4c2c-b52d-ff9fa90051fd"
      },
      "source": [
        "#with end Attribute\n",
        "'''Every print() is going to print the output in a new line; by using the end attribute, \n",
        "we can make the output print in a single line.'''\n",
        "\n",
        "print('sriranjini.sridhar', end=\"@\")\n",
        "print('kumarans.org',end='')\n",
        "print()\n",
        "#End attribute by using colon(:)\n",
        "print('1234',end=':')\n",
        "print('ABCD', end='')\n",
        "print()\n",
        "#end attribute by using the $ symbol\n",
        "print('120', end='$')\n",
        "print()\n"
      ],
      "execution_count": null,
      "outputs": [
        {
          "name": "stdout",
          "output_type": "stream",
          "text": [
            "sriranjini.sridhar@kumarans.org\n",
            "1234:ABCD\n",
            "120$\n"
          ]
        }
      ]
    },
    {
      "cell_type": "code",
      "metadata": {
        "colab": {
          "base_uri": "https://localhost:8080/"
        },
        "id": "MHUUKiPs1AqB",
        "outputId": "c9a8e891-5233-4999-aad4-1e191f91f45a"
      },
      "source": [
        "#Using the sep attribute with end attribute\n",
        "a = 10\n",
        "print(\"a =\", a, sep='00000', end='\\n\\n')\n",
        "print(\"a =\", a, sep='0', end='')\n",
        "print()\n",
        "\n",
        "print(10,20,30, sep=':',end=\"::\")\n",
        "print('integer values')"
      ],
      "execution_count": null,
      "outputs": [
        {
          "name": "stdout",
          "output_type": "stream",
          "text": [
            "a =0000010\n",
            "\n",
            "a =010\n",
            "10:20:30::integer values\n"
          ]
        }
      ]
    },
    {
      "cell_type": "code",
      "metadata": {
        "id": "bOCwDWK0dRjB"
      },
      "source": [
        "#Explicit conversion\n",
        "#We can convert between different data types by using different type conversion functions like int(), float(), str() etc.,\n",
        "#Typecasting can be done by assigning the required data type function to the expression.\n",
        "\n",
        "x = float(12)\n",
        "print(x)\n",
        "y = int(12.5)\n",
        "print(y)\n",
        "z = complex(12)\n",
        "print(z)\n"
      ],
      "execution_count": null,
      "outputs": []
    },
    {
      "cell_type": "code",
      "metadata": {
        "colab": {
          "base_uri": "https://localhost:8080/"
        },
        "id": "VZzZv3TuqCpj",
        "outputId": "2a5e3df2-85a1-4964-dbc2-5b1ed3bceb95"
      },
      "source": [
        "num_int = 123\n",
        "num_str = \"456\"\n",
        "\n",
        "print(\"Data type of num_int:\",type(num_int))\n",
        "print(\"Data type of num_str before Type Casting:\",type(num_str))\n",
        "num_str = int(num_str)\n",
        "print(\"Data type of num_str after Type Casting:\",type(num_str))\n",
        "num_sum = num_int + num_str\n",
        "print(\"Sum of num_int and num_str:\",num_sum)\n",
        "print(\"Data type of the sum:\",type(num_sum))"
      ],
      "execution_count": null,
      "outputs": [
        {
          "name": "stdout",
          "output_type": "stream",
          "text": [
            "Data type of num_int: <class 'int'>\n",
            "Data type of num_str before Type Casting: <class 'str'>\n",
            "Data type of num_str after Type Casting: <class 'int'>\n",
            "Sum of num_int and num_str: 579\n",
            "Data type of the sum: <class 'int'>\n"
          ]
        }
      ]
    },
    {
      "cell_type": "code",
      "metadata": {
        "id": "wEJKGgqaxL1Q"
      },
      "source": [
        "#Binary Datatype\n",
        "bin_num = bin(123)\n",
        "print(\"Binary number of 123 is \", bin_num)\n",
        "#To convert back to decimal\n",
        "dec_num = int(bin_num,base=2)\n",
        "print(\"Decimal number of \",bin_num,\" is\", dec_num)"
      ],
      "execution_count": null,
      "outputs": []
    },
    {
      "cell_type": "code",
      "metadata": {
        "id": "Zrod2vEx4g3L"
      },
      "source": [
        "#Octal Datatype\n",
        "\n",
        "x = oct(234)\n",
        "print(x)\n",
        "y = int(x,base=8)\n",
        "print(y)\n",
        "z = int(\"40\", base = 8)\n",
        "print(z)\n",
        "print(oct(45))"
      ],
      "execution_count": null,
      "outputs": []
    },
    {
      "cell_type": "code",
      "metadata": {
        "id": "hCOkWYHonqxB"
      },
      "source": [
        "#Hexadecimal Datatype\n",
        "hexnum = hex(7659)\n",
        "print(hexnum)\n",
        "dec_num= int(hexnum,base=16)\n",
        "print(dec_num)"
      ],
      "execution_count": null,
      "outputs": []
    },
    {
      "cell_type": "code",
      "metadata": {
        "colab": {
          "base_uri": "https://localhost:8080/"
        },
        "id": "EsS2jOVu7E9U",
        "outputId": "a1d628d7-0f1e-421b-8295-c2e07d25d797"
      },
      "source": [
        "\"\"\"Bytes Datatype - group of byte numbers\n",
        "- positive number from 0 to 255(inclusive)\n",
        "- it cannot store negative number\n",
        "- The bytes Datatypes are Immutable; once we generate any list, we cannot make any changes to its content.\n",
        "\"\"\"\n",
        "x = b\"Hello\"\n",
        "print(x, type(x))\n",
        "\n",
        "elements = [10,20,0,50,60]\n",
        "print(type(elements))\n",
        "x = bytes(elements) #Convert list into byte array\n",
        "print(x,type(x))\n",
        "\n",
        "\n",
        "#Byte array is array of bytes and are mutable\n",
        "# we can use a byte array to store a collection of binary data\n",
        "# byte array datatype is also iterable in the range between 0 to 256\n",
        "\n",
        "\n",
        "x = bytearray(10)\n",
        "print(x, \"bytearray\",type(x))\n"
      ],
      "execution_count": null,
      "outputs": [
        {
          "name": "stdout",
          "output_type": "stream",
          "text": [
            "b'Hello' <class 'bytes'>\n",
            "<class 'list'>\n",
            "b'\\n\\x14\\x002<' <class 'bytes'>\n",
            "bytearray(b'\\x00\\x00\\x00\\x00\\x00\\x00\\x00\\x00\\x00\\x00') bytearray <class 'bytearray'>\n"
          ]
        }
      ]
    },
    {
      "cell_type": "code",
      "metadata": {
        "colab": {
          "base_uri": "https://localhost:8080/"
        },
        "id": "noAT9tBgCYak",
        "outputId": "3f848b34-a967-480f-c7e6-fbe246b946ea"
      },
      "source": [
        "str1 = set(\"Hello\")\n",
        "print(str1,type(str1))\n",
        "\n",
        "print(tuple(\"Hello\"))\n",
        "\n",
        "lst = list(range(10))\n",
        "print(lst)"
      ],
      "execution_count": null,
      "outputs": [
        {
          "name": "stdout",
          "output_type": "stream",
          "text": [
            "{'l', 'H', 'o', 'e'} <class 'set'>\n",
            "('H', 'e', 'l', 'l', 'o')\n",
            "[0, 1, 2, 3, 4, 5, 6, 7, 8, 9]\n"
          ]
        }
      ]
    },
    {
      "cell_type": "code",
      "metadata": {
        "id": "OYZtDyya3peV"
      },
      "source": [
        "#range datatype\n",
        "#Represents sequence of numbers\n",
        "\n",
        "r=range(10)\n",
        "for i in r:\n",
        "  print(i)\n",
        "r = range(30,40,2) \n",
        "#numbers in range will increment by 2\n",
        "for i in r:\n",
        "  print(i)\n"
      ],
      "execution_count": null,
      "outputs": []
    },
    {
      "cell_type": "markdown",
      "metadata": {
        "id": "v9gaQyzDm_zY"
      },
      "source": [
        "#Identity Operator"
      ]
    },
    {
      "cell_type": "code",
      "metadata": {
        "id": "oNqlPVzpknbK"
      },
      "source": [
        "'''The memory location of an object can be seen using the id() function.\n",
        "The function returns an integer number called identity number that internally \n",
        "represents the memory location of the object.'''\n",
        "val1 = 30\n",
        "#We are assigning identifier 'val1' to the object 30\n",
        "val2 = 30\n",
        "#We are assigning another identifier 'val2' to the same object 30\n",
        "#30 is the object for which two identifiers are given\n",
        "print(id(val1))\n",
        "print(id(val2))\n",
        "val3 = 10+10+10\n",
        "print(id(val3))\n",
        "#the identity number of these  variables, will give the same number\n",
        "# as they refer to the same object \n"
      ],
      "execution_count": null,
      "outputs": []
    },
    {
      "cell_type": "code",
      "metadata": {
        "id": "_0V6mIGrnIq2"
      },
      "source": [
        "#IS Operator\n",
        "#Used to compare whether two objects are same or not\n",
        "\"\"\"If Identity numbers of the objects are same, return 'True' else it returns \n",
        "'False' \"\"\"\n",
        "val1 = 30,40\n",
        "\n",
        "print(id(type(val1)),id(type(val2)))\n",
        "\n",
        "if(val1 is val2):\n",
        "  print(val1, \"and\",val2, \"have same Identity\")\n",
        "else:\n",
        "  print(val1, \"and\",val2, \"have different Identity\")"
      ],
      "execution_count": null,
      "outputs": []
    },
    {
      "cell_type": "code",
      "metadata": {
        "id": "XqYgTGaohDAF"
      },
      "source": [
        "print ('Equals' == 'Equals')\n",
        "print ('Equals' is 'Equals')\n",
        "print ('Equals' is 'equals')\n",
        "print ([] == [])\n",
        "print ([] is [])\n",
        "print (\"Python\" is \"Python\")\n",
        "#Complex Number\n",
        "i = 1 + 2.5j\n",
        "j = 1 + 2.5j\n",
        "print(i is j)\n",
        "print(i == j)\n",
        "#Floating Point\n",
        "k = 4.5\n",
        "l = float(input(\"Enter a number : \"))\n",
        "print(k is l)\n",
        "print(k == l)\n",
        "\n"
      ],
      "execution_count": null,
      "outputs": []
    },
    {
      "cell_type": "markdown",
      "metadata": {
        "id": "qsgpt5x4BaSP"
      },
      "source": [
        "#Assignment Operator\n",
        "\n",
        "+= \t        a+=b is equivalent to a=a+b\n",
        "\n",
        "\\*=         \ta*=b is equivalent to a=a*b\n",
        "\n",
        "/=\t        a/=b is equivalent to a=a/b\n",
        "\n",
        "%=\t        a%=b is equivalent to a=a%b\n",
        "\n",
        "\\*\\*=\t        a\\*\\*=b is equivalent to a=a**b (exponent operator)\n",
        "\n",
        "//=\t        a//=b is equivalent to a=a//b (floor division)"
      ]
    },
    {
      "cell_type": "code",
      "metadata": {
        "colab": {
          "base_uri": "https://localhost:8080/"
        },
        "id": "w3DBcPjyBZDO",
        "outputId": "f9224c09-cc34-480c-f4c9-51dadd3dfdca"
      },
      "source": [
        "# take two variable, assign values with assignment operators\n",
        "a,b = 3,4\n",
        "\n",
        "a+=b \n",
        "# it is equivalent to a=a+b\n",
        "print(a)\n",
        " \n",
        "a*=b\n",
        "# it is equivalent to a=a*b\n",
        "print(a)\n",
        " \n",
        "a/=b\n",
        "# it is equivalent to a=a/b\n",
        "print(a)\n",
        " \n",
        "a%=b\n",
        "# it is equivalent to a=a%b\n",
        "print(a)\n",
        " \n",
        "a**=b\n",
        "# it is equivalent to a=a**b ( exponent operator)\n",
        "print(a)\n",
        "\n",
        "a//=b\n",
        "# it is equivalent to a=a//b ( floor division)\n",
        "print(a)\n",
        "\n",
        "a-=10\n",
        "# it is equivalent to a=a-10 \n",
        "print(a)"
      ],
      "execution_count": null,
      "outputs": [
        {
          "name": "stdout",
          "output_type": "stream",
          "text": [
            "7\n",
            "28\n",
            "7.0\n",
            "3.0\n",
            "81.0\n",
            "20.0\n",
            "10.0\n"
          ]
        }
      ]
    },
    {
      "cell_type": "markdown",
      "metadata": {
        "id": "gG6Hy9KXcU5T"
      },
      "source": [
        "#Relational Operator"
      ]
    },
    {
      "cell_type": "code",
      "metadata": {
        "id": "qX-Xevubck_A"
      },
      "source": [
        "# create two variables\n",
        "a=100\n",
        "b=200\n",
        " \n",
        "# (==) operator, checks if two operands are equal or not\n",
        "print(a==b)\n",
        " \n",
        "# (!=) operator, checks if two operands are not equal\n",
        "print(a!=b)\n",
        " \n",
        "# (>) operator, checks left operand is greater than right operand or not\n",
        "print(a>b)\n",
        " \n",
        "# (<) operator, checks left operand is less than right operand or not\n",
        "print(a<b)\n",
        "\n",
        "#(>=) operator, checks left operand is greater than or equal to right operand or not\n",
        "print(a>=b)\n",
        " \n",
        "# (<=) operator, checks left operand is less than or equal to right operand or not\n",
        "print(a<=b)"
      ],
      "execution_count": null,
      "outputs": []
    },
    {
      "cell_type": "code",
      "metadata": {
        "colab": {
          "base_uri": "https://localhost:8080/"
        },
        "id": "X8x0VGOl25qx",
        "outputId": "e4b14f69-5dae-4dd1-80a1-ff29f4981295"
      },
      "source": [
        "#Strings\n",
        "s1 = 'Dog'\n",
        "s2 = 'Cat'\n",
        "print(s1 > s2)\n",
        "print(s1 >= s2)\n",
        "print(s1 < s2)\n",
        "print(s1 <= s2)\n",
        "\n",
        "s1 = 'Dog'\n",
        "s2 = 'Doghouse'\n",
        "print(s1 > s2)\n",
        "print(s1 >= s2)\n",
        "print(s1 < s2)\n",
        "print(s1 <= s2)\n",
        "\n",
        "\n",
        "\n",
        "#compare between the string and int ?"
      ],
      "execution_count": null,
      "outputs": [
        {
          "name": "stdout",
          "output_type": "stream",
          "text": [
            "True\n",
            "True\n",
            "False\n",
            "False\n",
            "False\n",
            "False\n",
            "True\n",
            "True\n"
          ]
        }
      ]
    },
    {
      "cell_type": "code",
      "metadata": {
        "colab": {
          "base_uri": "https://localhost:8080/"
        },
        "id": "bxxXOgjoqXgj",
        "outputId": "624aea88-573d-47ea-e229-e8e7d7bb2057"
      },
      "source": [
        "#Floating point and relational operators\n",
        "print(0.3+0.3+0.3 == 0.9)\n",
        "print(1.5+1.5+1.5 == 4.5)\n",
        "print(0.2+0.2+0.2 == 0.6)\n",
        "print(0.3+0.3+0.3)\n",
        "#Binary equivalent of 1/3 or 0.3 decimal is 0.01001100110011001101\n",
        "#17 digit precision\n",
        "print(5 < 5.5)\n",
        "print(5 == 5.0)\n",
        "print(5 > 5.0)\n",
        "print(0.7 + 0.7 > 1.399)\n",
        "print(0.8+0.8 <= 1.600)"
      ],
      "execution_count": null,
      "outputs": [
        {
          "name": "stdout",
          "output_type": "stream",
          "text": [
            "False\n",
            "True\n",
            "False\n",
            "0.8999999999999999\n",
            "True\n",
            "True\n",
            "False\n",
            "True\n",
            "True\n"
          ]
        }
      ]
    },
    {
      "cell_type": "code",
      "metadata": {
        "id": "LuXSDv57wtDB"
      },
      "source": [],
      "execution_count": null,
      "outputs": []
    },
    {
      "cell_type": "markdown",
      "metadata": {
        "id": "ViE5hFfIanhw"
      },
      "source": [
        "#Bitwise Operator\n"
      ]
    },
    {
      "cell_type": "code",
      "metadata": {
        "colab": {
          "base_uri": "https://localhost:8080/"
        },
        "id": "Ubw62V4Q3htW",
        "outputId": "c68af4c5-3d89-4d6c-dbdd-02a177961a2d"
      },
      "source": [
        "#Bool Type\n",
        "#Integer\n",
        "print(0,bool(0))\n",
        "x=-9\n",
        "print(x,bool(x),type(bool(x)))\n",
        "\n",
        "print(1.3,bool(1.3),type(bool(1.3)))\n",
        "\n",
        "print(5,bool(5))\n",
        "\n",
        "#String\n",
        "print(\"Hi\",bool(\"Hi\"))\n",
        "print(\" \", bool(\" \"))\n",
        "print(\"\\n\", bool(\"\\n\"))\n",
        "print(bool(\"\"))"
      ],
      "execution_count": null,
      "outputs": [
        {
          "name": "stdout",
          "output_type": "stream",
          "text": [
            "0 False\n",
            "-9 True <class 'bool'>\n",
            "1.3 True <class 'bool'>\n",
            "5 True\n",
            "Hi True\n",
            "  True\n",
            "\n",
            " True\n",
            "False\n"
          ]
        }
      ]
    },
    {
      "cell_type": "code",
      "metadata": {
        "id": "wYKdrLCgat5L"
      },
      "source": [
        "#create two variables\n",
        "a=10 # binary 1010\n",
        "b=7  # binary 0111\n",
        " \n",
        "# Binary AND (&) operator, done binary AND operation\n",
        "print(a&b)\n",
        " \n",
        "# Binary OR (|) operator, done binary OR operation\n",
        "print(a|b)\n",
        " \n",
        "# Binary XOR (^) operator, done binary XOR operation\n",
        "print(a^b)\n",
        " \n",
        "# Binary ONEs Compliment (~) operator, done binary One's Compliment operation\n",
        "print(~a)\n",
        " \n"
      ],
      "execution_count": null,
      "outputs": []
    },
    {
      "cell_type": "code",
      "metadata": {
        "colab": {
          "base_uri": "https://localhost:8080/"
        },
        "id": "klNxSgQ3oKNG",
        "outputId": "6660a18c-2ae2-4d8a-8f7a-cdfd663909b2"
      },
      "source": [
        "a = 10\n",
        "b = -5\n",
        "print(~a)\n",
        "print(~b)\n",
        "not(not b)"
      ],
      "execution_count": null,
      "outputs": [
        {
          "name": "stdout",
          "output_type": "stream",
          "text": [
            "-11\n",
            "4\n"
          ]
        },
        {
          "data": {
            "text/plain": [
              "True"
            ]
          },
          "execution_count": 1,
          "metadata": {
            "tags": []
          },
          "output_type": "execute_result"
        }
      ]
    },
    {
      "cell_type": "code",
      "metadata": {
        "colab": {
          "base_uri": "https://localhost:8080/"
        },
        "id": "12Db0WSw8gaJ",
        "outputId": "d6f86dcf-db7f-4a93-9e67-bd72648adccd"
      },
      "source": [
        "print(~(a and b) or (a & b))\n",
        "print(a | b & a or b)\n",
        "c= a//2 + 20 and (b//2 & 4)  \n",
        "print(c)\n",
        "print(not(~b))\n",
        "print(a,b,c)\n",
        "print((c ** 2 and a-b) | (c or False))"
      ],
      "execution_count": null,
      "outputs": [
        {
          "name": "stdout",
          "output_type": "stream",
          "text": [
            "4\n",
            "10\n",
            "4\n",
            "False\n",
            "10 -5 4\n",
            "15\n"
          ]
        }
      ]
    },
    {
      "cell_type": "markdown",
      "metadata": {
        "id": "oqYOzA5pbPgE"
      },
      "source": [
        "#Shift Operator"
      ]
    },
    {
      "cell_type": "code",
      "metadata": {
        "colab": {
          "base_uri": "https://localhost:8080/"
        },
        "id": "h2HkfUO5bT4l",
        "outputId": "779c95ce-a319-4106-938a-b3881845718b"
      },
      "source": [
        "a=3\n",
        "# Binary Left Shift (<<) operator, done binary Left Shift operation\n",
        "print(a<<1) \n",
        "\n",
        "# Binary Right Shift (>>) operator, done binary Right Shift operation\n",
        "print(a>>1)"
      ],
      "execution_count": null,
      "outputs": [
        {
          "name": "stdout",
          "output_type": "stream",
          "text": [
            "6\n",
            "1\n"
          ]
        }
      ]
    },
    {
      "cell_type": "markdown",
      "metadata": {
        "id": "98y5y18qcGc6"
      },
      "source": [
        "#Logical Operator"
      ]
    },
    {
      "cell_type": "code",
      "metadata": {
        "id": "kKbEy3QvcJyY"
      },
      "source": [
        "#take user input as int\n",
        "a=int(input())\n",
        " \n",
        "# logical AND operation\n",
        " \n",
        "if a%4==0 and a%3==0:\n",
        "    print(\"divided by both 4 and 3\")\n",
        " \n",
        "# logical OR operation\n",
        "if a%4==0 or a%3==0:\n",
        "    print(\"either divided by 4 or 3\")\n",
        " \n",
        "# logical NOT operation\n",
        "if not(a%4==0 or a%3==0):\n",
        "    print(\"neither divided by 4 nor 3\")"
      ],
      "execution_count": null,
      "outputs": []
    },
    {
      "cell_type": "code",
      "metadata": {
        "colab": {
          "base_uri": "https://localhost:8080/"
        },
        "id": "lBTylZPWIFc7",
        "outputId": "56366803-a24f-4dab-ed65-8f8667eb5197"
      },
      "source": [
        "grade = 80\n",
        "grade2 = 90\n",
        "not (grade >= 50 or grade2 >= 50)\n",
        "\n",
        "#True or True\n",
        "a = True\n",
        "b = True\n",
        "\n",
        "c = a or b\n",
        "print(a,'or',b,'is:',c)\n",
        "\n",
        "#True or False\n",
        "a = True\n",
        "b = False\n",
        "\n",
        "c = a or b\n",
        "print(a,'or',b,'is:',c)\n",
        "\n",
        "#False or True\n",
        "a = False\n",
        "b = True\n",
        "\n",
        "c = a or b\n",
        "print(a,'or',b,'is:',c)\n",
        "\n",
        "#False or False\n",
        "a = False\n",
        "b = False\n",
        "\n",
        "c = a or b\n",
        "print(a,'or',b,'is:',c)\n",
        "\n",
        "print(30/40*5 == 22/7 * 2 * 2 or 30 **2 == 2*2*3.14)\n"
      ],
      "execution_count": null,
      "outputs": [
        {
          "name": "stdout",
          "output_type": "stream",
          "text": [
            "True or True is: True\n",
            "True or False is: True\n",
            "False or True is: True\n",
            "False or False is: False\n",
            "False\n"
          ]
        }
      ]
    },
    {
      "cell_type": "markdown",
      "metadata": {
        "id": "SihqTTW1A8yi"
      },
      "source": [
        "# Built-in Function \n",
        "We need certain functionality to the code. And for the same, we have two options:\n",
        "\n",
        "---Build the functionality from scratch\n",
        "---Use existing libraries to extend our program"
      ]
    },
    {
      "cell_type": "code",
      "metadata": {
        "colab": {
          "base_uri": "https://localhost:8080/",
          "height": 231
        },
        "id": "pt78Eb8CBEM0",
        "outputId": "a4cd472c-ec64-462b-8fcf-3c0486c5d940"
      },
      "source": [
        "#get a variable having value 16\n",
        "number=16\n",
        " \n",
        "#square root this number.\n",
        "number=sqrt(number)\n",
        " \n",
        "print(number)"
      ],
      "execution_count": null,
      "outputs": [
        {
          "ename": "NameError",
          "evalue": "ignored",
          "output_type": "error",
          "traceback": [
            "\u001b[0;31m---------------------------------------------------------------------------\u001b[0m",
            "\u001b[0;31mNameError\u001b[0m                                 Traceback (most recent call last)",
            "\u001b[0;32m<ipython-input-1-ffa7ce750ce7>\u001b[0m in \u001b[0;36m<module>\u001b[0;34m()\u001b[0m\n\u001b[1;32m      3\u001b[0m \u001b[0;34m\u001b[0m\u001b[0m\n\u001b[1;32m      4\u001b[0m \u001b[0;31m#square root this number.\u001b[0m\u001b[0;34m\u001b[0m\u001b[0;34m\u001b[0m\u001b[0;34m\u001b[0m\u001b[0m\n\u001b[0;32m----> 5\u001b[0;31m \u001b[0mnumber\u001b[0m\u001b[0;34m=\u001b[0m\u001b[0msqrt\u001b[0m\u001b[0;34m(\u001b[0m\u001b[0mnumber\u001b[0m\u001b[0;34m)\u001b[0m\u001b[0;34m\u001b[0m\u001b[0;34m\u001b[0m\u001b[0m\n\u001b[0m\u001b[1;32m      6\u001b[0m \u001b[0;34m\u001b[0m\u001b[0m\n\u001b[1;32m      7\u001b[0m \u001b[0mprint\u001b[0m\u001b[0;34m(\u001b[0m\u001b[0mnumber\u001b[0m\u001b[0;34m)\u001b[0m\u001b[0;34m\u001b[0m\u001b[0;34m\u001b[0m\u001b[0m\n",
            "\u001b[0;31mNameError\u001b[0m: name 'sqrt' is not defined"
          ]
        }
      ]
    },
    {
      "cell_type": "markdown",
      "metadata": {
        "id": "q5SpXrbiTzl2"
      },
      "source": [
        "Module is a file that contains a group of useful objects like functions,classes or variables.\n",
        "'math' is a module that contains several functions to perform mathematical operations."
      ]
    },
    {
      "cell_type": "code",
      "metadata": {
        "id": "3QF5yZ8_3d7d"
      },
      "source": [
        "help(math)"
      ],
      "execution_count": null,
      "outputs": []
    },
    {
      "cell_type": "code",
      "metadata": {
        "id": "9YX9v6nHBLVV"
      },
      "source": [
        "#first import math module\n",
        "import math\n",
        "#get a variable having value 16\n",
        "number=16\n",
        " \n",
        "#square root this number.\n",
        "x=math.sqrt(number)\n",
        " \n",
        "print(\"Square root of\",number,\"is: \",x)\n",
        "print(\"Factorial of 5 is:\",math.factorial(5)) #Raises 'Value error' if x is not integer or is negative.\n",
        "#If value is integer, same value is returned.\n",
        "print(\"ceil(4.567) - Return the value to next higher integer: \", math.ceil(4.567))\n",
        "\n",
        "print(\"floor(4.567)- Decreases the value to the previous integer value\",math.floor(4.567))\n",
        "\n",
        "print(\"pow(x,y)- Returns x value to power of y\", math.pow(5,3))\n"
      ],
      "execution_count": null,
      "outputs": []
    },
    {
      "cell_type": "markdown",
      "metadata": {
        "id": "SUMazd-KwOo5"
      },
      "source": [
        "##Program to convert degree to radian value"
      ]
    },
    {
      "cell_type": "code",
      "metadata": {
        "id": "Xe7miVeqvK9f"
      },
      "source": [
        "#Program to convert degree to radian value\n",
        "from math import pi\n",
        "deg = float(input(\"Enter the degree : \"))\n",
        "#angle in radian = angle in degree x pi/180\n",
        "rad = deg * (pi/180)\n",
        "print(\"Degree to radian value\", rad)"
      ],
      "execution_count": null,
      "outputs": []
    },
    {
      "cell_type": "code",
      "metadata": {
        "id": "zsezorvzpBC7"
      },
      "source": [
        "#Solve the following:\n",
        "\n",
        "#2\n",
        "a,b,c = 3,5,7\n",
        "x,y,z = a+1, b+c, c+4\n",
        "print(a,b,c)\n",
        "print(x-a, y-b, z-c)\n",
        "\n",
        "x, y = 8,4\n",
        "x,y,x = x +1, y+4, x+2\n",
        "print(x,y)\n",
        "\n",
        "x, y = 8,4\n",
        "x = x +1 \n",
        "x,y,x =x, y+4, x+2\n",
        "print(x,y)\n",
        "\n",
        "p,q = 3,5\n",
        "q,r = p-2, p +2\n",
        "print(p,q,r)\n",
        "\n",
        "z,z = 20,30\n",
        "w,w = z +10, z+20\n",
        "print(z,w)"
      ],
      "execution_count": null,
      "outputs": []
    },
    {
      "cell_type": "code",
      "metadata": {
        "id": "biEX6BPiKofG"
      },
      "source": [],
      "execution_count": null,
      "outputs": []
    }
  ]
}